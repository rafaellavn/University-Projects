{
 "cells": [
  {
   "cell_type": "markdown",
   "id": "fc97b725-ad6f-45c2-8c2b-3808a437373b",
   "metadata": {
    "tags": []
   },
   "source": [
    "# READ ME\n",
    "This is the data/file you need\n",
    "\n",
    "**Look into the given zip file, containing...**\n",
    "- an ontology\n",
    "\n",
    "**Steps to do before running the Jupyter file**\n",
    "- Open GraphDB\n",
    "- Create a repository called \"FinalProject\"\n",
    "- Unpload in the repository the given ontology file\n",
    "- Save the data there and then come back to jupyter and run the next cells"
   ]
  },
  {
   "cell_type": "code",
   "execution_count": 1,
   "id": "dff988ff-a865-408d-842f-19d92aa1cc58",
   "metadata": {},
   "outputs": [
    {
     "name": "stdout",
     "output_type": "stream",
     "text": [
      "Requirement already satisfied: ipython-sparql-pandas in c:\\users\\hari\\appdata\\local\\packages\\pythonsoftwarefoundation.python.3.10_qbz5n2kfra8p0\\localcache\\local-packages\\python310\\site-packages (1.4)\n",
      "Requirement already satisfied: ipython in c:\\users\\hari\\appdata\\local\\packages\\pythonsoftwarefoundation.python.3.10_qbz5n2kfra8p0\\localcache\\local-packages\\python310\\site-packages (from ipython-sparql-pandas) (8.5.0)\n",
      "Requirement already satisfied: SPARQLWrapper in c:\\users\\hari\\appdata\\local\\packages\\pythonsoftwarefoundation.python.3.10_qbz5n2kfra8p0\\localcache\\local-packages\\python310\\site-packages (from ipython-sparql-pandas) (2.0.0)\n",
      "Requirement already satisfied: pandas in c:\\users\\hari\\appdata\\local\\packages\\pythonsoftwarefoundation.python.3.10_qbz5n2kfra8p0\\localcache\\local-packages\\python310\\site-packages (from ipython-sparql-pandas) (1.5.1)\n",
      "Requirement already satisfied: pickleshare in c:\\users\\hari\\appdata\\local\\packages\\pythonsoftwarefoundation.python.3.10_qbz5n2kfra8p0\\localcache\\local-packages\\python310\\site-packages (from ipython->ipython-sparql-pandas) (0.7.5)\n",
      "Requirement already satisfied: pygments>=2.4.0 in c:\\users\\hari\\appdata\\local\\packages\\pythonsoftwarefoundation.python.3.10_qbz5n2kfra8p0\\localcache\\local-packages\\python310\\site-packages (from ipython->ipython-sparql-pandas) (2.13.0)\n",
      "Requirement already satisfied: colorama in c:\\users\\hari\\appdata\\local\\packages\\pythonsoftwarefoundation.python.3.10_qbz5n2kfra8p0\\localcache\\local-packages\\python310\\site-packages (from ipython->ipython-sparql-pandas) (0.4.6)\n",
      "Requirement already satisfied: jedi>=0.16 in c:\\users\\hari\\appdata\\local\\packages\\pythonsoftwarefoundation.python.3.10_qbz5n2kfra8p0\\localcache\\local-packages\\python310\\site-packages (from ipython->ipython-sparql-pandas) (0.18.1)\n",
      "Requirement already satisfied: backcall in c:\\users\\hari\\appdata\\local\\packages\\pythonsoftwarefoundation.python.3.10_qbz5n2kfra8p0\\localcache\\local-packages\\python310\\site-packages (from ipython->ipython-sparql-pandas) (0.2.0)\n",
      "Requirement already satisfied: matplotlib-inline in c:\\users\\hari\\appdata\\local\\packages\\pythonsoftwarefoundation.python.3.10_qbz5n2kfra8p0\\localcache\\local-packages\\python310\\site-packages (from ipython->ipython-sparql-pandas) (0.1.6)\n",
      "Requirement already satisfied: prompt-toolkit<3.1.0,>3.0.1 in c:\\users\\hari\\appdata\\local\\packages\\pythonsoftwarefoundation.python.3.10_qbz5n2kfra8p0\\localcache\\local-packages\\python310\\site-packages (from ipython->ipython-sparql-pandas) (3.0.31)\n",
      "Requirement already satisfied: stack-data in c:\\users\\hari\\appdata\\local\\packages\\pythonsoftwarefoundation.python.3.10_qbz5n2kfra8p0\\localcache\\local-packages\\python310\\site-packages (from ipython->ipython-sparql-pandas) (0.5.1)\n",
      "Requirement already satisfied: decorator in c:\\users\\hari\\appdata\\local\\packages\\pythonsoftwarefoundation.python.3.10_qbz5n2kfra8p0\\localcache\\local-packages\\python310\\site-packages (from ipython->ipython-sparql-pandas) (5.1.1)\n",
      "Requirement already satisfied: traitlets>=5 in c:\\users\\hari\\appdata\\local\\packages\\pythonsoftwarefoundation.python.3.10_qbz5n2kfra8p0\\localcache\\local-packages\\python310\\site-packages (from ipython->ipython-sparql-pandas) (5.5.0)\n",
      "Requirement already satisfied: python-dateutil>=2.8.1 in c:\\users\\hari\\appdata\\local\\packages\\pythonsoftwarefoundation.python.3.10_qbz5n2kfra8p0\\localcache\\local-packages\\python310\\site-packages (from pandas->ipython-sparql-pandas) (2.8.2)\n",
      "Requirement already satisfied: pytz>=2020.1 in c:\\users\\hari\\appdata\\local\\packages\\pythonsoftwarefoundation.python.3.10_qbz5n2kfra8p0\\localcache\\local-packages\\python310\\site-packages (from pandas->ipython-sparql-pandas) (2022.5)\n",
      "Requirement already satisfied: numpy>=1.21.0 in c:\\users\\hari\\appdata\\local\\packages\\pythonsoftwarefoundation.python.3.10_qbz5n2kfra8p0\\localcache\\local-packages\\python310\\site-packages (from pandas->ipython-sparql-pandas) (1.23.4)\n",
      "Requirement already satisfied: rdflib>=6.1.1 in c:\\users\\hari\\appdata\\local\\packages\\pythonsoftwarefoundation.python.3.10_qbz5n2kfra8p0\\localcache\\local-packages\\python310\\site-packages (from SPARQLWrapper->ipython-sparql-pandas) (6.2.0)\n",
      "Requirement already satisfied: parso<0.9.0,>=0.8.0 in c:\\users\\hari\\appdata\\local\\packages\\pythonsoftwarefoundation.python.3.10_qbz5n2kfra8p0\\localcache\\local-packages\\python310\\site-packages (from jedi>=0.16->ipython->ipython-sparql-pandas) (0.8.3)\n",
      "Requirement already satisfied: wcwidth in c:\\users\\hari\\appdata\\local\\packages\\pythonsoftwarefoundation.python.3.10_qbz5n2kfra8p0\\localcache\\local-packages\\python310\\site-packages (from prompt-toolkit<3.1.0,>3.0.1->ipython->ipython-sparql-pandas) (0.2.5)\n",
      "Requirement already satisfied: six>=1.5 in c:\\users\\hari\\appdata\\local\\packages\\pythonsoftwarefoundation.python.3.10_qbz5n2kfra8p0\\localcache\\local-packages\\python310\\site-packages (from python-dateutil>=2.8.1->pandas->ipython-sparql-pandas) (1.16.0)\n",
      "Requirement already satisfied: pyparsing in c:\\users\\hari\\appdata\\local\\packages\\pythonsoftwarefoundation.python.3.10_qbz5n2kfra8p0\\localcache\\local-packages\\python310\\site-packages (from rdflib>=6.1.1->SPARQLWrapper->ipython-sparql-pandas) (3.0.9)\n",
      "Requirement already satisfied: isodate in c:\\users\\hari\\appdata\\local\\packages\\pythonsoftwarefoundation.python.3.10_qbz5n2kfra8p0\\localcache\\local-packages\\python310\\site-packages (from rdflib>=6.1.1->SPARQLWrapper->ipython-sparql-pandas) (0.6.1)\n",
      "Requirement already satisfied: setuptools in c:\\program files\\windowsapps\\pythonsoftwarefoundation.python.3.10_3.10.2288.0_x64__qbz5n2kfra8p0\\lib\\site-packages (from rdflib>=6.1.1->SPARQLWrapper->ipython-sparql-pandas) (63.2.0)\n",
      "Requirement already satisfied: asttokens in c:\\users\\hari\\appdata\\local\\packages\\pythonsoftwarefoundation.python.3.10_qbz5n2kfra8p0\\localcache\\local-packages\\python310\\site-packages (from stack-data->ipython->ipython-sparql-pandas) (2.0.8)\n",
      "Requirement already satisfied: executing in c:\\users\\hari\\appdata\\local\\packages\\pythonsoftwarefoundation.python.3.10_qbz5n2kfra8p0\\localcache\\local-packages\\python310\\site-packages (from stack-data->ipython->ipython-sparql-pandas) (1.1.1)\n",
      "Requirement already satisfied: pure-eval in c:\\users\\hari\\appdata\\local\\packages\\pythonsoftwarefoundation.python.3.10_qbz5n2kfra8p0\\localcache\\local-packages\\python310\\site-packages (from stack-data->ipython->ipython-sparql-pandas) (0.2.2)\n",
      "Note: you may need to restart the kernel to use updated packages.\n"
     ]
    },
    {
     "name": "stderr",
     "output_type": "stream",
     "text": [
      "\n",
      "[notice] A new release of pip available: 22.2.2 -> 22.3\n",
      "[notice] To update, run: C:\\Users\\Hari\\AppData\\Local\\Microsoft\\WindowsApps\\PythonSoftwareFoundation.Python.3.10_qbz5n2kfra8p0\\python.exe -m pip install --upgrade pip\n"
     ]
    }
   ],
   "source": [
    "%pip install ipython-sparql-pandas\n",
    "#run `sparql?` in a cell for documentation\n",
    "%load_ext ipython_sparql_pandas"
   ]
  },
  {
   "cell_type": "code",
   "execution_count": 2,
   "id": "97a61846-77bc-495b-8057-4a444e4ca44c",
   "metadata": {},
   "outputs": [],
   "source": [
    "import pandas as pd\n",
    "import matplotlib.pyplot as plt\n",
    "import folium\n"
   ]
  },
  {
   "cell_type": "code",
   "execution_count": 3,
   "id": "454c449f-7be3-45d6-8938-09814e206c77",
   "metadata": {},
   "outputs": [],
   "source": [
    "import ssl\n",
    "\n",
    "ssl._create_default_https_context = ssl._create_unverified_context"
   ]
  },
  {
   "cell_type": "markdown",
   "id": "ca85a43a-2a36-4275-9d6d-c2b3d2c75da6",
   "metadata": {
    "tags": []
   },
   "source": [
    "# Which are the top world Artists?\n",
    "We want to answer this question in order to help journalists find out who are the most popular artists based on their revenue, song prizes, how collaborative they are and on their experience. This data will help the journalists to know on which artist they should focus to write more about, as people tend to be more interested in the most popular ones.\n",
    "\n",
    "# 1) Top 10 artists with the highest ranking in general.\n",
    "An artist's rank depends on how many awards they won during their career, or, in another words, how many songs of theirs were awarded."
   ]
  },
  {
   "cell_type": "code",
   "execution_count": 58,
   "id": "d2d1a76f-c722-47f4-b6b8-ef295e18a790",
   "metadata": {},
   "outputs": [
    {
     "data": {
      "text/html": [
       "<div>\n",
       "<style scoped>\n",
       "    .dataframe tbody tr th:only-of-type {\n",
       "        vertical-align: middle;\n",
       "    }\n",
       "\n",
       "    .dataframe tbody tr th {\n",
       "        vertical-align: top;\n",
       "    }\n",
       "\n",
       "    .dataframe thead th {\n",
       "        text-align: right;\n",
       "    }\n",
       "</style>\n",
       "<table border=\"1\" class=\"dataframe\">\n",
       "  <thead>\n",
       "    <tr style=\"text-align: right;\">\n",
       "      <th></th>\n",
       "      <th>Artist</th>\n",
       "      <th>awards</th>\n",
       "    </tr>\n",
       "  </thead>\n",
       "  <tbody>\n",
       "    <tr>\n",
       "      <th>0</th>\n",
       "      <td>Drake</td>\n",
       "      <td>106</td>\n",
       "    </tr>\n",
       "    <tr>\n",
       "      <th>1</th>\n",
       "      <td>Eminem</td>\n",
       "      <td>94</td>\n",
       "    </tr>\n",
       "    <tr>\n",
       "      <th>2</th>\n",
       "      <td>Enrique Iglesias</td>\n",
       "      <td>67</td>\n",
       "    </tr>\n",
       "    <tr>\n",
       "      <th>3</th>\n",
       "      <td>Selena Gomez</td>\n",
       "      <td>36</td>\n",
       "    </tr>\n",
       "    <tr>\n",
       "      <th>4</th>\n",
       "      <td>Avicii</td>\n",
       "      <td>33</td>\n",
       "    </tr>\n",
       "    <tr>\n",
       "      <th>5</th>\n",
       "      <td>Sam Smith</td>\n",
       "      <td>33</td>\n",
       "    </tr>\n",
       "    <tr>\n",
       "      <th>6</th>\n",
       "      <td>Dua Lipa</td>\n",
       "      <td>26</td>\n",
       "    </tr>\n",
       "    <tr>\n",
       "      <th>7</th>\n",
       "      <td>Doja Cat</td>\n",
       "      <td>25</td>\n",
       "    </tr>\n",
       "  </tbody>\n",
       "</table>\n",
       "</div>"
      ],
      "text/plain": [
       "             Artist  awards\n",
       "0             Drake     106\n",
       "1            Eminem      94\n",
       "2  Enrique Iglesias      67\n",
       "3      Selena Gomez      36\n",
       "4            Avicii      33\n",
       "5         Sam Smith      33\n",
       "6          Dua Lipa      26\n",
       "7          Doja Cat      25"
      ]
     },
     "execution_count": 58,
     "metadata": {},
     "output_type": "execute_result"
    }
   ],
   "source": [
    "%%sparql http://localhost:7200/repositories/FinalProject -s awards\n",
    "PREFIX rdf: <http://www.w3.org/1999/02/22-rdf-syntax-ns#>\n",
    "PREFIX mus: <http://www.semanticweb.org/no/ontologies/2022/9/MusicalArtists#>\n",
    "PREFIX dbo: <http://dbpedia.org/ontology/>\n",
    "PREFIX foaf: <http://xmlns.com/foaf/0.1/>\n",
    "\n",
    "SELECT ?Artist (COUNT(?award) as ?awards)\n",
    "WHERE\n",
    "{\n",
    "    ?artist rdf:type mus:Artist .\n",
    "    ?artist dbo:Name ?Artist .\n",
    "    SERVICE <https://dbpedia.org/sparql> {\n",
    "        ?singer foaf:name ?Artist .\n",
    "        ?award dbo:artist ?singer .\n",
    "    }   \n",
    "}\n",
    "GROUP BY ?Artist\n",
    "ORDER BY Desc(?awards)\n",
    "LIMIT 10"
   ]
  },
  {
   "cell_type": "markdown",
   "id": "968ab3f4-ea28-4686-aa55-99700fda987c",
   "metadata": {
    "tags": []
   },
   "source": [
    "### 1) Visualisation"
   ]
  },
  {
   "cell_type": "code",
   "execution_count": 59,
   "id": "d6a9d482-4fa3-4c34-a904-d64436075dc3",
   "metadata": {},
   "outputs": [
    {
     "data": {
      "text/plain": [
       "<AxesSubplot: xlabel='Artist'>"
      ]
     },
     "execution_count": 59,
     "metadata": {},
     "output_type": "execute_result"
    },
    {
     "data": {
      "image/png": "[encoded data removed]",
      "text/plain": [
       "<Figure size 640x480 with 1 Axes>"
      ]
     },
     "metadata": {},
     "output_type": "display_data"
    }
   ],
   "source": [
    "awards.set_index('Artist', inplace=True)\n",
    "awards['awards'].plot.bar()"
   ]
  },
  {
   "cell_type": "markdown",
   "id": "c2201f5c-32b3-48d7-9135-e4f4ff541abd",
   "metadata": {
    "tags": []
   },
   "source": [
    "# 2) Top 10 artists with the most experience.\n",
    "An artist's experience is determined by how many songs they have released in their career.\n",
    "\n",
    "(Note: if an artist released a song, it doesn't necessarily mean they wrote it, because it could also be a cover, or a song written by a collaborating artist.)"
   ]
  },
  {
   "cell_type": "code",
   "execution_count": 37,
   "id": "7d280f5c-7fe9-41cf-ba4f-bb6c915838b3",
   "metadata": {},
   "outputs": [
    {
     "data": {
      "text/html": [
       "<div>\n",
       "<style scoped>\n",
       "    .dataframe tbody tr th:only-of-type {\n",
       "        vertical-align: middle;\n",
       "    }\n",
       "\n",
       "    .dataframe tbody tr th {\n",
       "        vertical-align: top;\n",
       "    }\n",
       "\n",
       "    .dataframe thead th {\n",
       "        text-align: right;\n",
       "    }\n",
       "</style>\n",
       "<table border=\"1\" class=\"dataframe\">\n",
       "  <thead>\n",
       "    <tr style=\"text-align: right;\">\n",
       "      <th></th>\n",
       "      <th>Artist</th>\n",
       "      <th>HitNumber</th>\n",
       "    </tr>\n",
       "  </thead>\n",
       "  <tbody>\n",
       "    <tr>\n",
       "      <th>0</th>\n",
       "      <td>Drake</td>\n",
       "      <td>106</td>\n",
       "    </tr>\n",
       "    <tr>\n",
       "      <th>1</th>\n",
       "      <td>Eminem</td>\n",
       "      <td>94</td>\n",
       "    </tr>\n",
       "    <tr>\n",
       "      <th>2</th>\n",
       "      <td>Enrique Iglesias</td>\n",
       "      <td>67</td>\n",
       "    </tr>\n",
       "    <tr>\n",
       "      <th>3</th>\n",
       "      <td>Selena Gomez</td>\n",
       "      <td>36</td>\n",
       "    </tr>\n",
       "    <tr>\n",
       "      <th>4</th>\n",
       "      <td>Avicii</td>\n",
       "      <td>33</td>\n",
       "    </tr>\n",
       "    <tr>\n",
       "      <th>5</th>\n",
       "      <td>Sam Smith</td>\n",
       "      <td>33</td>\n",
       "    </tr>\n",
       "    <tr>\n",
       "      <th>6</th>\n",
       "      <td>Dua Lipa</td>\n",
       "      <td>26</td>\n",
       "    </tr>\n",
       "    <tr>\n",
       "      <th>7</th>\n",
       "      <td>Doja Cat</td>\n",
       "      <td>25</td>\n",
       "    </tr>\n",
       "  </tbody>\n",
       "</table>\n",
       "</div>"
      ],
      "text/plain": [
       "             Artist  HitNumber\n",
       "0             Drake        106\n",
       "1            Eminem         94\n",
       "2  Enrique Iglesias         67\n",
       "3      Selena Gomez         36\n",
       "4            Avicii         33\n",
       "5         Sam Smith         33\n",
       "6          Dua Lipa         26\n",
       "7          Doja Cat         25"
      ]
     },
     "execution_count": 37,
     "metadata": {},
     "output_type": "execute_result"
    }
   ],
   "source": [
    "%%sparql http://localhost:7200/repositories/FinalProject -s experience\n",
    "PREFIX rdf: <http://www.w3.org/1999/02/22-rdf-syntax-ns#>\n",
    "PREFIX mus: <http://www.semanticweb.org/no/ontologies/2022/9/MusicalArtists#>\n",
    "PREFIX dbo: <http://dbpedia.org/ontology/>\n",
    "PREFIX foaf: <http://xmlns.com/foaf/0.1/>\n",
    "\n",
    "SELECT ?Artist (COUNT(?Song) as ?HitNumber)\n",
    "WHERE\n",
    "{\n",
    "    ?artist rdf:type mus:Artist .\n",
    "    ?artist dbo:Name ?Artist .\n",
    "    SERVICE <https://dbpedia.org/sparql> {\n",
    "        ?singer foaf:name ?Artist .\n",
    "        ?Song dbo:artist ?singer .\n",
    "    }   \n",
    "}\n",
    "GROUP BY ?Artist\n",
    "ORDER BY DESC(?HitNumber)\n",
    "LIMIT 10"
   ]
  },
  {
   "cell_type": "markdown",
   "id": "18e03502-211d-4f98-b2f3-530a25269e38",
   "metadata": {
    "tags": []
   },
   "source": [
    "### 2) Visualisation\n",
    "\n",
    "\n"
   ]
  },
  {
   "cell_type": "code",
   "execution_count": 38,
   "id": "d1696bdd-a462-451d-8654-b64ed15c6c67",
   "metadata": {},
   "outputs": [
    {
     "data": {
      "text/plain": [
       "<AxesSubplot: ylabel='HitNumber'>"
      ]
     },
     "execution_count": 38,
     "metadata": {},
     "output_type": "execute_result"
    },
    {
     "data": {
      "image/png": "[encoded data removed]",
      "text/plain": [
       "<Figure size 640x480 with 1 Axes>"
      ]
     },
     "metadata": {},
     "output_type": "display_data"
    }
   ],
   "source": [
    "experience.set_index('Artist', inplace=True)\n",
    "experience['HitNumber'].plot.pie()"
   ]
  },
  {
   "cell_type": "markdown",
   "id": "6e84240f-d24d-4385-82a3-138cd3a19672",
   "metadata": {
    "tags": []
   },
   "source": [
    "# 3) Top 3 artists with the largest variety of musical genres.\n",
    "This will give a great input of the versatility an artist has. Usually artists focus just on one genre, so having artists who are able to sing multiple different genres will create a greate article."
   ]
  },
  {
   "cell_type": "code",
   "execution_count": 40,
   "id": "3ff462e2-64eb-4b2f-8202-85c0587a05a3",
   "metadata": {},
   "outputs": [
    {
     "data": {
      "text/html": [
       "<div>\n",
       "<style scoped>\n",
       "    .dataframe tbody tr th:only-of-type {\n",
       "        vertical-align: middle;\n",
       "    }\n",
       "\n",
       "    .dataframe tbody tr th {\n",
       "        vertical-align: top;\n",
       "    }\n",
       "\n",
       "    .dataframe thead th {\n",
       "        text-align: right;\n",
       "    }\n",
       "</style>\n",
       "<table border=\"1\" class=\"dataframe\">\n",
       "  <thead>\n",
       "    <tr style=\"text-align: right;\">\n",
       "      <th></th>\n",
       "      <th>Artist</th>\n",
       "      <th>GenreNumber</th>\n",
       "    </tr>\n",
       "  </thead>\n",
       "  <tbody>\n",
       "    <tr>\n",
       "      <th>0</th>\n",
       "      <td>Dua Lipa</td>\n",
       "      <td>27</td>\n",
       "    </tr>\n",
       "    <tr>\n",
       "      <th>1</th>\n",
       "      <td>Enrique Iglesias</td>\n",
       "      <td>26</td>\n",
       "    </tr>\n",
       "    <tr>\n",
       "      <th>2</th>\n",
       "      <td>Drake</td>\n",
       "      <td>24</td>\n",
       "    </tr>\n",
       "    <tr>\n",
       "      <th>3</th>\n",
       "      <td>Eminem</td>\n",
       "      <td>18</td>\n",
       "    </tr>\n",
       "    <tr>\n",
       "      <th>4</th>\n",
       "      <td>Doja Cat</td>\n",
       "      <td>17</td>\n",
       "    </tr>\n",
       "    <tr>\n",
       "      <th>5</th>\n",
       "      <td>Sam Smith</td>\n",
       "      <td>17</td>\n",
       "    </tr>\n",
       "    <tr>\n",
       "      <th>6</th>\n",
       "      <td>Avicii</td>\n",
       "      <td>16</td>\n",
       "    </tr>\n",
       "  </tbody>\n",
       "</table>\n",
       "</div>"
      ],
      "text/plain": [
       "             Artist  GenreNumber\n",
       "0          Dua Lipa           27\n",
       "1  Enrique Iglesias           26\n",
       "2             Drake           24\n",
       "3            Eminem           18\n",
       "4          Doja Cat           17\n",
       "5         Sam Smith           17\n",
       "6            Avicii           16"
      ]
     },
     "execution_count": 40,
     "metadata": {},
     "output_type": "execute_result"
    }
   ],
   "source": [
    "%%sparql http://localhost:7200/repositories/FinalProject -s variety\n",
    "PREFIX rdf: <http://www.w3.org/1999/02/22-rdf-syntax-ns#>\n",
    "PREFIX mus: <http://www.semanticweb.org/no/ontologies/2022/9/MusicalArtists#>\n",
    "PREFIX dbo: <http://dbpedia.org/ontology/>\n",
    "PREFIX foaf: <http://xmlns.com/foaf/0.1/>\n",
    "\n",
    "SELECT ?Artist (COUNT(DISTINCT ?genre) as ?GenreNumber)\n",
    "WHERE\n",
    "{\n",
    "    ?artist rdf:type mus:Artist .\n",
    "    ?artist dbo:Name ?Artist .\n",
    "    SERVICE <https://dbpedia.org/sparql> {\n",
    "        ?singer foaf:name ?Artist .\n",
    "        ?Song dbo:artist ?singer .\n",
    "        ?Song dbo:genre ?genre .\n",
    "    }     \n",
    "}\n",
    "GROUP BY ?Artist\n",
    "ORDER BY DESC(?GenreNumber)\n",
    "LIMIT 10"
   ]
  },
  {
   "cell_type": "markdown",
   "id": "b26052d6-86ac-40ca-b061-3ec980a7fa91",
   "metadata": {
    "tags": []
   },
   "source": [
    "### 3) Visualisation"
   ]
  },
  {
   "cell_type": "code",
   "execution_count": 41,
   "id": "38f43a28-0c9f-4378-a35c-b30df3ec9577",
   "metadata": {},
   "outputs": [
    {
     "data": {
      "text/plain": [
       "<AxesSubplot: ylabel='GenreNumber'>"
      ]
     },
     "execution_count": 41,
     "metadata": {},
     "output_type": "execute_result"
    },
    {
     "data": {
      "image/png": "[encoded data removed]",
      "text/plain": [
       "<Figure size 640x480 with 1 Axes>"
      ]
     },
     "metadata": {},
     "output_type": "display_data"
    }
   ],
   "source": [
    "variety.set_index('Artist', inplace=True)\n",
    "variety['GenreNumber'].plot.pie()"
   ]
  },
  {
   "cell_type": "markdown",
   "id": "6efcdac1-36a6-483f-acb4-41dd96964215",
   "metadata": {
    "tags": []
   },
   "source": [
    "# 4) The artist with the higest NetWorth\n",
    "This information will suggest who is the most financially successful artist."
   ]
  },
  {
   "cell_type": "code",
   "execution_count": 42,
   "id": "88613949-e636-4d2b-99f6-c36779e6c19b",
   "metadata": {},
   "outputs": [
    {
     "data": {
      "text/html": [
       "<div>\n",
       "<style scoped>\n",
       "    .dataframe tbody tr th:only-of-type {\n",
       "        vertical-align: middle;\n",
       "    }\n",
       "\n",
       "    .dataframe tbody tr th {\n",
       "        vertical-align: top;\n",
       "    }\n",
       "\n",
       "    .dataframe thead th {\n",
       "        text-align: right;\n",
       "    }\n",
       "</style>\n",
       "<table border=\"1\" class=\"dataframe\">\n",
       "  <thead>\n",
       "    <tr style=\"text-align: right;\">\n",
       "      <th></th>\n",
       "      <th>Artist</th>\n",
       "      <th>NetWorth</th>\n",
       "    </tr>\n",
       "  </thead>\n",
       "  <tbody>\n",
       "    <tr>\n",
       "      <th>0</th>\n",
       "      <td>Drake</td>\n",
       "      <td>1.5E8</td>\n",
       "    </tr>\n",
       "  </tbody>\n",
       "</table>\n",
       "</div>"
      ],
      "text/plain": [
       "  Artist NetWorth\n",
       "0  Drake    1.5E8"
      ]
     },
     "execution_count": 42,
     "metadata": {},
     "output_type": "execute_result"
    }
   ],
   "source": [
    "%%sparql http://localhost:7200/repositories/FinalProject -s networth\n",
    "PREFIX rdf: <http://www.w3.org/1999/02/22-rdf-syntax-ns#>\n",
    "PREFIX mus: <http://www.semanticweb.org/no/ontologies/2022/9/MusicalArtists#>\n",
    "PREFIX dbo: <http://dbpedia.org/ontology/>\n",
    "PREFIX foaf: <http://xmlns.com/foaf/0.1/>\n",
    "\n",
    "SELECT ?Artist ?NetWorth\n",
    "WHERE\n",
    "{\n",
    "    ?artist rdf:type mus:Artist .\n",
    "    ?artist dbo:Name ?Artist .\n",
    "    SERVICE <https://dbpedia.org/sparql> {\n",
    "        ?singer foaf:name ?Artist .\n",
    "        ?singer dbo:networth ?NetWorth .\n",
    "    }   \n",
    "}\n",
    "GROUP BY ?Artist ?NetWorth\n",
    "ORDER BY DESC(?networth)\n",
    "LIMIT 1"
   ]
  },
  {
   "cell_type": "markdown",
   "id": "76e441e8-a41b-4a16-aefb-d3a434076f59",
   "metadata": {
    "tags": []
   },
   "source": [
    "# 5)  Top 10 artists who wrote the most songs\n",
    "This data will help the journalist to understand which artists really enjoy being part of the process of writing songs and making their song based on their own story.\n",
    "\n",
    "(Note: writing songs is different from releasing a song, because one could also play a cover song, or a song written by an artist they collaborate with)"
   ]
  },
  {
   "cell_type": "code",
   "execution_count": 45,
   "id": "926b4ca8-d50a-4cdb-bfe3-c49e8c847bc1",
   "metadata": {},
   "outputs": [
    {
     "data": {
      "text/html": [
       "<div>\n",
       "<style scoped>\n",
       "    .dataframe tbody tr th:only-of-type {\n",
       "        vertical-align: middle;\n",
       "    }\n",
       "\n",
       "    .dataframe tbody tr th {\n",
       "        vertical-align: top;\n",
       "    }\n",
       "\n",
       "    .dataframe thead th {\n",
       "        text-align: right;\n",
       "    }\n",
       "</style>\n",
       "<table border=\"1\" class=\"dataframe\">\n",
       "  <thead>\n",
       "    <tr style=\"text-align: right;\">\n",
       "      <th></th>\n",
       "      <th>Artist</th>\n",
       "      <th>WrittenSongs</th>\n",
       "    </tr>\n",
       "  </thead>\n",
       "  <tbody>\n",
       "    <tr>\n",
       "      <th>0</th>\n",
       "      <td>Eminem</td>\n",
       "      <td>133</td>\n",
       "    </tr>\n",
       "    <tr>\n",
       "      <th>1</th>\n",
       "      <td>Will Champion</td>\n",
       "      <td>76</td>\n",
       "    </tr>\n",
       "    <tr>\n",
       "      <th>2</th>\n",
       "      <td>Enrique Iglesias</td>\n",
       "      <td>52</td>\n",
       "    </tr>\n",
       "  </tbody>\n",
       "</table>\n",
       "</div>"
      ],
      "text/plain": [
       "             Artist  WrittenSongs\n",
       "0            Eminem           133\n",
       "1     Will Champion            76\n",
       "2  Enrique Iglesias            52"
      ]
     },
     "execution_count": 45,
     "metadata": {},
     "output_type": "execute_result"
    }
   ],
   "source": [
    "%%sparql http://localhost:7200/repositories/FinalProject -s songwriting\n",
    "PREFIX ex: <http://example.com/kad/> \n",
    "PREFIX rdfs: <http://www.w3.org/2000/01/rdf-schema#>\n",
    "PREFIX dbo: <http://dbpedia.org/ontology/>\n",
    "PREFIX dbp: <https://dbpedia.org/property/>\n",
    "PREFIX dbr: <http://dbpedia.org/resource/>\n",
    "PREFIX geo: <http://www.opengis.net/ont/geosparql#>\n",
    "PREFIX rdf: <http://www.w3.org/1999/02/22-rdf-syntax-ns#>\n",
    "PREFIX foaf: <http://xmlns.com/foaf/0.1/>\n",
    "PREFIX owl: <http://www.w3.org/2002/07/owl#>\n",
    "PREFIX mus: <http://www.semanticweb.org/no/ontologies/2022/9/MusicalArtists#>\n",
    "\n",
    "Select ?Artist (Count(?Song) as ?WrittenSongs)\n",
    "WHERE\n",
    "{\n",
    "    \n",
    "    ?artist rdf:type mus:Artist.\n",
    "    ?artist dbo:Name ?Artist.\n",
    "    Service <https://dbpedia.org/sparql> {\n",
    "        ?singer foaf:name ?Artist.\n",
    "        ?Song dbo:writer ?singer.\n",
    "        \n",
    "    }   \n",
    "   \n",
    "}\n",
    "Group By ?Artist \n",
    "Order By desc(?WrittenSongs)\n",
    "LIMIT 10"
   ]
  },
  {
   "cell_type": "markdown",
   "id": "b4de3231-bbed-41ae-a873-431b3536eb04",
   "metadata": {
    "tags": []
   },
   "source": [
    "### 5) Visualisation"
   ]
  },
  {
   "cell_type": "code",
   "execution_count": 46,
   "id": "f719c783-d562-445d-8838-706065015dab",
   "metadata": {},
   "outputs": [
    {
     "data": {
      "text/plain": [
       "<AxesSubplot: xlabel='Artist'>"
      ]
     },
     "execution_count": 46,
     "metadata": {},
     "output_type": "execute_result"
    },
    {
     "data": {
      "image/png": "[encoded data removed]",
      "text/plain": [
       "<Figure size 640x480 with 1 Axes>"
      ]
     },
     "metadata": {},
     "output_type": "display_data"
    }
   ],
   "source": [
    "songwriting.set_index('Artist', inplace=True)\n",
    "songwriting['WrittenSongs'].plot.bar()"
   ]
  },
  {
   "cell_type": "markdown",
   "id": "3e350b86-eeb5-4968-97ce-5f58dd95fd00",
   "metadata": {
    "tags": []
   },
   "source": [
    "# 6) Top 10 artists with the highest number of collaborations\n",
    "\n",
    "This shows which artists enjoy working together with others the most."
   ]
  },
  {
   "cell_type": "code",
   "execution_count": 47,
   "id": "161a4c18-bb09-4cca-b972-b9b5635d7704",
   "metadata": {},
   "outputs": [
    {
     "data": {
      "text/html": [
       "<div>\n",
       "<style scoped>\n",
       "    .dataframe tbody tr th:only-of-type {\n",
       "        vertical-align: middle;\n",
       "    }\n",
       "\n",
       "    .dataframe tbody tr th {\n",
       "        vertical-align: top;\n",
       "    }\n",
       "\n",
       "    .dataframe thead th {\n",
       "        text-align: right;\n",
       "    }\n",
       "</style>\n",
       "<table border=\"1\" class=\"dataframe\">\n",
       "  <thead>\n",
       "    <tr style=\"text-align: right;\">\n",
       "      <th></th>\n",
       "      <th>Artist</th>\n",
       "      <th>Collaborations</th>\n",
       "    </tr>\n",
       "  </thead>\n",
       "  <tbody>\n",
       "    <tr>\n",
       "      <th>0</th>\n",
       "      <td>Drake</td>\n",
       "      <td>80</td>\n",
       "    </tr>\n",
       "    <tr>\n",
       "      <th>1</th>\n",
       "      <td>Eminem</td>\n",
       "      <td>69</td>\n",
       "    </tr>\n",
       "    <tr>\n",
       "      <th>2</th>\n",
       "      <td>Avicii</td>\n",
       "      <td>34</td>\n",
       "    </tr>\n",
       "    <tr>\n",
       "      <th>3</th>\n",
       "      <td>Enrique Iglesias</td>\n",
       "      <td>24</td>\n",
       "    </tr>\n",
       "    <tr>\n",
       "      <th>4</th>\n",
       "      <td>Dua Lipa</td>\n",
       "      <td>17</td>\n",
       "    </tr>\n",
       "    <tr>\n",
       "      <th>5</th>\n",
       "      <td>Doja Cat</td>\n",
       "      <td>12</td>\n",
       "    </tr>\n",
       "  </tbody>\n",
       "</table>\n",
       "</div>"
      ],
      "text/plain": [
       "             Artist  Collaborations\n",
       "0             Drake              80\n",
       "1            Eminem              69\n",
       "2            Avicii              34\n",
       "3  Enrique Iglesias              24\n",
       "4          Dua Lipa              17\n",
       "5          Doja Cat              12"
      ]
     },
     "execution_count": 47,
     "metadata": {},
     "output_type": "execute_result"
    }
   ],
   "source": [
    "%%sparql http://localhost:7200/repositories/FinalProject -s collaborations1\n",
    "PREFIX rdf: <http://www.w3.org/1999/02/22-rdf-syntax-ns#>\n",
    "PREFIX mus: <http://www.semanticweb.org/no/ontologies/2022/9/MusicalArtists#>\n",
    "PREFIX dbo: <http://dbpedia.org/ontology/>\n",
    "PREFIX foaf: <http://xmlns.com/foaf/0.1/>\n",
    "\n",
    "SELECT ?Artist (COUNT(?artists) as ?Collaborations)\n",
    "WHERE\n",
    "{\n",
    "    ?artist rdf:type mus:Artist .\n",
    "    ?artist dbo:Name ?Artist .\n",
    "    SERVICE <https://dbpedia.org/sparql> {\n",
    "        ?singer foaf:name ?Artist .\n",
    "        {?artists dbo:associatedMusicalArtist ?singer .}\n",
    "        UNION\n",
    "        {?singer dbo:associatedMusicalArtist ?artists .}\n",
    "    }   \n",
    "}\n",
    "GROUP BY ?Artist \n",
    "ORDER BY DESC(?Collaborations)\n",
    "LIMIT 10"
   ]
  },
  {
   "cell_type": "markdown",
   "id": "47f0d62d-4349-4679-b117-fb41f1b3ff8f",
   "metadata": {
    "tags": []
   },
   "source": [
    "### 6) Visualisation"
   ]
  },
  {
   "cell_type": "code",
   "execution_count": 48,
   "id": "f84e98fe-dd7f-4b98-b939-ebdaa88f24c4",
   "metadata": {},
   "outputs": [
    {
     "data": {
      "text/plain": [
       "<AxesSubplot: ylabel='Collaborations'>"
      ]
     },
     "execution_count": 48,
     "metadata": {},
     "output_type": "execute_result"
    },
    {
     "data": {
      "image/png": "[encoded data removed]",
      "text/plain": [
       "<Figure size 640x480 with 1 Axes>"
      ]
     },
     "metadata": {},
     "output_type": "display_data"
    }
   ],
   "source": [
    "collaborations1.set_index('Artist', inplace=True)\n",
    "collaborations1['Collaborations'].plot.pie()"
   ]
  },
  {
   "cell_type": "markdown",
   "id": "c2831656-4bad-4ff5-8512-cb592317220b",
   "metadata": {
    "tags": []
   },
   "source": [
    "# 7) Top 3 artists with the lowest number of collaborations\n",
    "\n",
    "This shows the more independent artists, who prefer working alone to collaborating with others in music."
   ]
  },
  {
   "cell_type": "code",
   "execution_count": 49,
   "id": "d6eb03fa-832f-4eec-b289-135a19884db5",
   "metadata": {},
   "outputs": [
    {
     "data": {
      "text/html": [
       "<div>\n",
       "<style scoped>\n",
       "    .dataframe tbody tr th:only-of-type {\n",
       "        vertical-align: middle;\n",
       "    }\n",
       "\n",
       "    .dataframe tbody tr th {\n",
       "        vertical-align: top;\n",
       "    }\n",
       "\n",
       "    .dataframe thead th {\n",
       "        text-align: right;\n",
       "    }\n",
       "</style>\n",
       "<table border=\"1\" class=\"dataframe\">\n",
       "  <thead>\n",
       "    <tr style=\"text-align: right;\">\n",
       "      <th></th>\n",
       "      <th>Artist</th>\n",
       "      <th>Collaborations</th>\n",
       "    </tr>\n",
       "  </thead>\n",
       "  <tbody>\n",
       "    <tr>\n",
       "      <th>0</th>\n",
       "      <td>Doja Cat</td>\n",
       "      <td>12</td>\n",
       "    </tr>\n",
       "    <tr>\n",
       "      <th>1</th>\n",
       "      <td>Dua Lipa</td>\n",
       "      <td>17</td>\n",
       "    </tr>\n",
       "    <tr>\n",
       "      <th>2</th>\n",
       "      <td>Enrique Iglesias</td>\n",
       "      <td>24</td>\n",
       "    </tr>\n",
       "  </tbody>\n",
       "</table>\n",
       "</div>"
      ],
      "text/plain": [
       "             Artist  Collaborations\n",
       "0          Doja Cat              12\n",
       "1          Dua Lipa              17\n",
       "2  Enrique Iglesias              24"
      ]
     },
     "execution_count": 49,
     "metadata": {},
     "output_type": "execute_result"
    }
   ],
   "source": [
    "%%sparql http://localhost:7200/repositories/FinalProject -s collaborations2\n",
    "PREFIX rdf: <http://www.w3.org/1999/02/22-rdf-syntax-ns#>\n",
    "PREFIX mus: <http://www.semanticweb.org/no/ontologies/2022/9/MusicalArtists#>\n",
    "PREFIX dbo: <http://dbpedia.org/ontology/>\n",
    "PREFIX foaf: <http://xmlns.com/foaf/0.1/>\n",
    "\n",
    "SELECT ?Artist (COUNT(?artists) as ?Collaborations)\n",
    "WHERE\n",
    "{\n",
    "    \n",
    "    ?artist rdf:type mus:Artist .\n",
    "    ?artist dbo:Name ?Artist .\n",
    "    SERVICE <https://dbpedia.org/sparql> {\n",
    "        ?singer foaf:name ?Artist .\n",
    "        {?artists dbo:associatedMusicalArtist ?singer .}\n",
    "        UNION\n",
    "        {?singer dbo:associatedMusicalArtist ?artists .}\n",
    "    }   \n",
    "   \n",
    "}\n",
    "GROUP BY ?Artist \n",
    "ORDER BY ?Collaborations\n",
    "LIMIT 3"
   ]
  },
  {
   "cell_type": "markdown",
   "id": "6bc3dba2-abfb-4fed-99d3-e6677782bbaa",
   "metadata": {
    "tags": []
   },
   "source": [
    "### 7) Visualisation"
   ]
  },
  {
   "cell_type": "code",
   "execution_count": 50,
   "id": "b9df5be8-bf8d-4030-bba7-edc2ef67fad0",
   "metadata": {},
   "outputs": [
    {
     "data": {
      "text/plain": [
       "<AxesSubplot: xlabel='Artist'>"
      ]
     },
     "execution_count": 50,
     "metadata": {},
     "output_type": "execute_result"
    },
    {
     "data": {
      "image/png": "[encoded data removed]",
      "text/plain": [
       "<Figure size 640x480 with 1 Axes>"
      ]
     },
     "metadata": {},
     "output_type": "display_data"
    }
   ],
   "source": [
    "collaborations2.set_index('Artist', inplace=True)\n",
    "collaborations2['Collaborations'].plot.bar()"
   ]
  },
  {
   "cell_type": "markdown",
   "id": "7a80a77c-dace-431a-aa57-3e4ae4a818a2",
   "metadata": {
    "tags": []
   },
   "source": [
    "# 8) Countries with the highest number of top artists\n",
    "This information will help in order to determine which country has the highest number of popular artists."
   ]
  },
  {
   "cell_type": "code",
   "execution_count": 52,
   "id": "289591fb-9262-4623-beee-803d1be5d5ef",
   "metadata": {},
   "outputs": [
    {
     "data": {
      "text/html": [
       "<div>\n",
       "<style scoped>\n",
       "    .dataframe tbody tr th:only-of-type {\n",
       "        vertical-align: middle;\n",
       "    }\n",
       "\n",
       "    .dataframe tbody tr th {\n",
       "        vertical-align: top;\n",
       "    }\n",
       "\n",
       "    .dataframe thead th {\n",
       "        text-align: right;\n",
       "    }\n",
       "</style>\n",
       "<table border=\"1\" class=\"dataframe\">\n",
       "  <thead>\n",
       "    <tr style=\"text-align: right;\">\n",
       "      <th></th>\n",
       "      <th>Country</th>\n",
       "      <th>BornInCountry</th>\n",
       "    </tr>\n",
       "  </thead>\n",
       "  <tbody>\n",
       "    <tr>\n",
       "      <th>0</th>\n",
       "      <td>United Kingdom</td>\n",
       "      <td>9</td>\n",
       "    </tr>\n",
       "    <tr>\n",
       "      <th>1</th>\n",
       "      <td>United States of America</td>\n",
       "      <td>7</td>\n",
       "    </tr>\n",
       "    <tr>\n",
       "      <th>2</th>\n",
       "      <td>Canada</td>\n",
       "      <td>4</td>\n",
       "    </tr>\n",
       "    <tr>\n",
       "      <th>3</th>\n",
       "      <td>Romania</td>\n",
       "      <td>3</td>\n",
       "    </tr>\n",
       "    <tr>\n",
       "      <th>4</th>\n",
       "      <td>Netherlands</td>\n",
       "      <td>2</td>\n",
       "    </tr>\n",
       "    <tr>\n",
       "      <th>5</th>\n",
       "      <td>Spain</td>\n",
       "      <td>2</td>\n",
       "    </tr>\n",
       "    <tr>\n",
       "      <th>6</th>\n",
       "      <td>Australia</td>\n",
       "      <td>1</td>\n",
       "    </tr>\n",
       "    <tr>\n",
       "      <th>7</th>\n",
       "      <td>Finland</td>\n",
       "      <td>1</td>\n",
       "    </tr>\n",
       "    <tr>\n",
       "      <th>8</th>\n",
       "      <td>France</td>\n",
       "      <td>1</td>\n",
       "    </tr>\n",
       "    <tr>\n",
       "      <th>9</th>\n",
       "      <td>Nigeria</td>\n",
       "      <td>1</td>\n",
       "    </tr>\n",
       "    <tr>\n",
       "      <th>10</th>\n",
       "      <td>Norway</td>\n",
       "      <td>1</td>\n",
       "    </tr>\n",
       "    <tr>\n",
       "      <th>11</th>\n",
       "      <td>Sweden</td>\n",
       "      <td>1</td>\n",
       "    </tr>\n",
       "    <tr>\n",
       "      <th>12</th>\n",
       "      <td>Ukraine</td>\n",
       "      <td>1</td>\n",
       "    </tr>\n",
       "  </tbody>\n",
       "</table>\n",
       "</div>"
      ],
      "text/plain": [
       "                     Country  BornInCountry\n",
       "0             United Kingdom              9\n",
       "1   United States of America              7\n",
       "2                     Canada              4\n",
       "3                    Romania              3\n",
       "4                Netherlands              2\n",
       "5                      Spain              2\n",
       "6                  Australia              1\n",
       "7                    Finland              1\n",
       "8                     France              1\n",
       "9                    Nigeria              1\n",
       "10                    Norway              1\n",
       "11                    Sweden              1\n",
       "12                   Ukraine              1"
      ]
     },
     "execution_count": 52,
     "metadata": {},
     "output_type": "execute_result"
    }
   ],
   "source": [
    "%%sparql http://localhost:7200/repositories/FinalProject -s countries\n",
    "PREFIX ex: <http://example.com/kad/> \n",
    "PREFIX rdfs: <http://www.w3.org/2000/01/rdf-schema#>\n",
    "PREFIX dbo: <http://dbpedia.org/ontology/>\n",
    "PREFIX dbp: <https://dbpedia.org/property/>\n",
    "PREFIX dbr: <http://dbpedia.org/resource/>\n",
    "PREFIX geo: <http://www.opengis.net/ont/geosparql#>\n",
    "PREFIX rdf: <http://www.w3.org/1999/02/22-rdf-syntax-ns#>\n",
    "PREFIX foaf: <http://xmlns.com/foaf/0.1/>\n",
    "PREFIX owl: <http://www.w3.org/2002/07/owl#>\n",
    "PREFIX mus: <http://www.semanticweb.org/no/ontologies/2022/9/MusicalArtists#>\n",
    "\n",
    "Select ?Country (Count(?artists) as ?BornInCountry)\n",
    "WHERE\n",
    "{\n",
    "    ?artists rdf:type mus:Artist.\n",
    "    ?artists mus:bornIn ?country.\n",
    "    ?country rdfs:label ?Country\n",
    "}\n",
    "Group By ?Country\n",
    "Order By DESC(?BornInCountry)"
   ]
  },
  {
   "cell_type": "markdown",
   "id": "72b7b288-6f10-45dd-ad5d-e97f892eaede",
   "metadata": {
    "tags": []
   },
   "source": [
    "### 8) Visualisation 1 (Pie Chart)"
   ]
  },
  {
   "cell_type": "code",
   "execution_count": 53,
   "id": "c29f7b06-dfc7-4ccf-b577-880c44a2eb15",
   "metadata": {},
   "outputs": [
    {
     "data": {
      "text/plain": [
       "<AxesSubplot: ylabel='BornInCountry'>"
      ]
     },
     "execution_count": 53,
     "metadata": {},
     "output_type": "execute_result"
    },
    {
     "data": {
      "image/png": "[encoded data removed]",
      "text/plain": [
       "<Figure size 640x480 with 1 Axes>"
      ]
     },
     "metadata": {},
     "output_type": "display_data"
    }
   ],
   "source": [
    "Country_label = countries['Country']\n",
    "Number = countries['BornInCountry']\n",
    "countries.set_index('Country', inplace=True)\n",
    "countries['BornInCountry'].plot.pie()"
   ]
  },
  {
   "cell_type": "markdown",
   "id": "ddc422f1-6911-4172-a166-47af6aee2bb2",
   "metadata": {
    "tags": []
   },
   "source": [
    "### 8) Visualisation 2 (Map)"
   ]
  },
  {
   "cell_type": "code",
   "execution_count": 54,
   "id": "de114662-b889-4d19-a358-91633b1a5d7c",
   "metadata": {},
   "outputs": [],
   "source": [
    "%%sparql http://query.wikidata.org/sparql -q -s capitals\n",
    "SELECT DISTINCT ?country ?label_en ?coords WHERE {\n",
    "   ?country wdt:P31 wd:Q6256.\n",
    "   ?country rdfs:label ?label_en filter (lang(?label_en) = \"en\"). \n",
    "   ?country wdt:P36 ?capital . # capital: ?capital\n",
    "   ?capital wdt:P625 ?coords \n",
    "    # Using Wikidata-only label service\n",
    "    SERVICE wikibase:label { bd:serviceParam wikibase:language \"[AUTO_LANGUAGE],en\". }\n",
    "}"
   ]
  },
  {
   "cell_type": "code",
   "execution_count": null,
   "id": "6f6fa39b-779e-40b0-88f1-0db959fbed7a",
   "metadata": {},
   "outputs": [],
   "source": [
    "%pip install folium"
   ]
  },
  {
   "cell_type": "code",
   "execution_count": 55,
   "id": "4daa23c5-597f-47e1-888c-5c3f6dfd34b4",
   "metadata": {},
   "outputs": [
    {
     "data": {
      "text/html": [
       "<div style=\"width:100%;\"><div style=\"position:relative;width:100%;height:0;padding-bottom:60%;\"><span style=\"color:#565656\">Make this Notebook Trusted to load map: File -> Trust Notebook</span><iframe srcdoc=\"&lt;!DOCTYPE html&gt;\n",
       "&lt;head&gt;    \n",
       "    &lt;meta http-equiv=&quot;content-type&quot; content=&quot;text/html; charset=UTF-8&quot; /&gt;\n",
       "    \n",
       "        &lt;script&gt;\n",
       "            L_NO_TOUCH = false;\n",
       "            L_DISABLE_3D = false;\n",
       "        &lt;/script&gt;\n",
       "    \n",
       "    &lt;style&gt;html, body {width: 100%;height: 100%;margin: 0;padding: 0;}&lt;/style&gt;\n",
       "    &lt;style&gt;#map {position:absolute;top:0;bottom:0;right:0;left:0;}&lt;/style&gt;\n",
       "    &lt;script src=&quot;https://cdn.jsdelivr.net/npm/leaflet@1.6.0/dist/leaflet.js&quot;&gt;&lt;/script&gt;\n",
       "    &lt;script src=&quot;https://code.jquery.com/jquery-1.12.4.min.js&quot;&gt;&lt;/script&gt;\n",
       "    &lt;script src=&quot;https://maxcdn.bootstrapcdn.com/bootstrap/3.2.0/js/bootstrap.min.js&quot;&gt;&lt;/script&gt;\n",
       "    &lt;script src=&quot;https://cdnjs.cloudflare.com/ajax/libs/Leaflet.awesome-markers/2.0.2/leaflet.awesome-markers.js&quot;&gt;&lt;/script&gt;\n",
       "    &lt;link rel=&quot;stylesheet&quot; href=&quot;https://cdn.jsdelivr.net/npm/leaflet@1.6.0/dist/leaflet.css&quot;/&gt;\n",
       "    &lt;link rel=&quot;stylesheet&quot; href=&quot;https://maxcdn.bootstrapcdn.com/bootstrap/3.2.0/css/bootstrap.min.css&quot;/&gt;\n",
       "    &lt;link rel=&quot;stylesheet&quot; href=&quot;https://maxcdn.bootstrapcdn.com/bootstrap/3.2.0/css/bootstrap-theme.min.css&quot;/&gt;\n",
       "    &lt;link rel=&quot;stylesheet&quot; href=&quot;https://maxcdn.bootstrapcdn.com/font-awesome/4.6.3/css/font-awesome.min.css&quot;/&gt;\n",
       "    &lt;link rel=&quot;stylesheet&quot; href=&quot;https://cdnjs.cloudflare.com/ajax/libs/Leaflet.awesome-markers/2.0.2/leaflet.awesome-markers.css&quot;/&gt;\n",
       "    &lt;link rel=&quot;stylesheet&quot; href=&quot;https://cdn.jsdelivr.net/gh/python-visualization/folium/folium/templates/leaflet.awesome.rotate.min.css&quot;/&gt;\n",
       "    \n",
       "            &lt;meta name=&quot;viewport&quot; content=&quot;width=device-width,\n",
       "                initial-scale=1.0, maximum-scale=1.0, user-scalable=no&quot; /&gt;\n",
       "            &lt;style&gt;\n",
       "                #map_fed2fc4189f42676d087acdd8551bd59 {\n",
       "                    position: relative;\n",
       "                    width: 100.0%;\n",
       "                    height: 100.0%;\n",
       "                    left: 0.0%;\n",
       "                    top: 0.0%;\n",
       "                }\n",
       "            &lt;/style&gt;\n",
       "        \n",
       "&lt;/head&gt;\n",
       "&lt;body&gt;    \n",
       "    \n",
       "            &lt;div class=&quot;folium-map&quot; id=&quot;map_fed2fc4189f42676d087acdd8551bd59&quot; &gt;&lt;/div&gt;\n",
       "        \n",
       "&lt;/body&gt;\n",
       "&lt;script&gt;    \n",
       "    \n",
       "            var map_fed2fc4189f42676d087acdd8551bd59 = L.map(\n",
       "                &quot;map_fed2fc4189f42676d087acdd8551bd59&quot;,\n",
       "                {\n",
       "                    center: [18.741137269281403, 22.395027079879394],\n",
       "                    crs: L.CRS.EPSG3857,\n",
       "                    zoom: 2,\n",
       "                    zoomControl: true,\n",
       "                    preferCanvas: false,\n",
       "                }\n",
       "            );\n",
       "\n",
       "            \n",
       "\n",
       "        \n",
       "    \n",
       "            var tile_layer_ab8a61157ee84c143c166c20d8d37e48 = L.tileLayer(\n",
       "                &quot;https://{s}.tile.openstreetmap.org/{z}/{x}/{y}.png&quot;,\n",
       "                {&quot;attribution&quot;: &quot;Data by \\u0026copy; \\u003ca href=\\&quot;http://openstreetmap.org\\&quot;\\u003eOpenStreetMap\\u003c/a\\u003e, under \\u003ca href=\\&quot;http://www.openstreetmap.org/copyright\\&quot;\\u003eODbL\\u003c/a\\u003e.&quot;, &quot;detectRetina&quot;: false, &quot;maxNativeZoom&quot;: 18, &quot;maxZoom&quot;: 18, &quot;minZoom&quot;: 0, &quot;noWrap&quot;: false, &quot;opacity&quot;: 1, &quot;subdomains&quot;: &quot;abc&quot;, &quot;tms&quot;: false}\n",
       "            ).addTo(map_fed2fc4189f42676d087acdd8551bd59);\n",
       "        \n",
       "    \n",
       "            var circle_marker_38f1e2eafd7a6515c28b9e9049de55b7 = L.circleMarker(\n",
       "                [45.424722222, -75.695],\n",
       "                {&quot;bubblingMouseEvents&quot;: true, &quot;color&quot;: &quot;#3186cc&quot;, &quot;dashArray&quot;: null, &quot;dashOffset&quot;: null, &quot;fill&quot;: true, &quot;fillColor&quot;: &quot;#3186cc&quot;, &quot;fillOpacity&quot;: 0.2, &quot;fillRule&quot;: &quot;evenodd&quot;, &quot;lineCap&quot;: &quot;round&quot;, &quot;lineJoin&quot;: &quot;round&quot;, &quot;opacity&quot;: 1.0, &quot;radius&quot;: 90, &quot;stroke&quot;: true, &quot;weight&quot;: 3}\n",
       "            ).addTo(map_fed2fc4189f42676d087acdd8551bd59);\n",
       "        \n",
       "    \n",
       "        var popup_4b732817cbe774be9aaf1dd8af14a6dc = L.popup({&quot;maxWidth&quot;: &quot;100%&quot;});\n",
       "\n",
       "        \n",
       "            \n",
       "                var html_1c3f2ebdb11ee83b5c485e8f52002b00 = $(`&lt;div id=&quot;html_1c3f2ebdb11ee83b5c485e8f52002b00&quot; style=&quot;width: 100.0%; height: 100.0%;&quot;&gt;http://www.wikidata.org/entity/Q16&lt;/div&gt;`)[0];\n",
       "                popup_4b732817cbe774be9aaf1dd8af14a6dc.setContent(html_1c3f2ebdb11ee83b5c485e8f52002b00);\n",
       "            \n",
       "        \n",
       "\n",
       "        circle_marker_38f1e2eafd7a6515c28b9e9049de55b7.bindPopup(popup_4b732817cbe774be9aaf1dd8af14a6dc)\n",
       "        ;\n",
       "\n",
       "        \n",
       "    \n",
       "    \n",
       "            var circle_marker_77aea898ccbd573916014c516d155566 = L.circleMarker(\n",
       "                [59.913333333, 10.738888888],\n",
       "                {&quot;bubblingMouseEvents&quot;: true, &quot;color&quot;: &quot;#3186cc&quot;, &quot;dashArray&quot;: null, &quot;dashOffset&quot;: null, &quot;fill&quot;: true, &quot;fillColor&quot;: &quot;#3186cc&quot;, &quot;fillOpacity&quot;: 0.2, &quot;fillRule&quot;: &quot;evenodd&quot;, &quot;lineCap&quot;: &quot;round&quot;, &quot;lineJoin&quot;: &quot;round&quot;, &quot;opacity&quot;: 1.0, &quot;radius&quot;: 70, &quot;stroke&quot;: true, &quot;weight&quot;: 3}\n",
       "            ).addTo(map_fed2fc4189f42676d087acdd8551bd59);\n",
       "        \n",
       "    \n",
       "        var popup_fdb1fe8cb52fe156c51da73f57a00bb0 = L.popup({&quot;maxWidth&quot;: &quot;100%&quot;});\n",
       "\n",
       "        \n",
       "            \n",
       "                var html_3e769b02957c888eaf14238eacac03c6 = $(`&lt;div id=&quot;html_3e769b02957c888eaf14238eacac03c6&quot; style=&quot;width: 100.0%; height: 100.0%;&quot;&gt;http://www.wikidata.org/entity/Q20&lt;/div&gt;`)[0];\n",
       "                popup_fdb1fe8cb52fe156c51da73f57a00bb0.setContent(html_3e769b02957c888eaf14238eacac03c6);\n",
       "            \n",
       "        \n",
       "\n",
       "        circle_marker_77aea898ccbd573916014c516d155566.bindPopup(popup_fdb1fe8cb52fe156c51da73f57a00bb0)\n",
       "        ;\n",
       "\n",
       "        \n",
       "    \n",
       "    \n",
       "            var circle_marker_068686a27d214f65ee18a85661cf3139 = L.circleMarker(\n",
       "                [38.895, -77.036666666],\n",
       "                {&quot;bubblingMouseEvents&quot;: true, &quot;color&quot;: &quot;#3186cc&quot;, &quot;dashArray&quot;: null, &quot;dashOffset&quot;: null, &quot;fill&quot;: true, &quot;fillColor&quot;: &quot;#3186cc&quot;, &quot;fillOpacity&quot;: 0.2, &quot;fillRule&quot;: &quot;evenodd&quot;, &quot;lineCap&quot;: &quot;round&quot;, &quot;lineJoin&quot;: &quot;round&quot;, &quot;opacity&quot;: 1.0, &quot;radius&quot;: 40, &quot;stroke&quot;: true, &quot;weight&quot;: 3}\n",
       "            ).addTo(map_fed2fc4189f42676d087acdd8551bd59);\n",
       "        \n",
       "    \n",
       "        var popup_bf72d45c0e408a3fa0e8cdf53cbee11f = L.popup({&quot;maxWidth&quot;: &quot;100%&quot;});\n",
       "\n",
       "        \n",
       "            \n",
       "                var html_99c61bbc436d699a6b882db60ddc732b = $(`&lt;div id=&quot;html_99c61bbc436d699a6b882db60ddc732b&quot; style=&quot;width: 100.0%; height: 100.0%;&quot;&gt;http://www.wikidata.org/entity/Q30&lt;/div&gt;`)[0];\n",
       "                popup_bf72d45c0e408a3fa0e8cdf53cbee11f.setContent(html_99c61bbc436d699a6b882db60ddc732b);\n",
       "            \n",
       "        \n",
       "\n",
       "        circle_marker_068686a27d214f65ee18a85661cf3139.bindPopup(popup_bf72d45c0e408a3fa0e8cdf53cbee11f)\n",
       "        ;\n",
       "\n",
       "        \n",
       "    \n",
       "    \n",
       "            var circle_marker_9c6d636e1613ccfbd350f1fe49b5e6e0 = L.circleMarker(\n",
       "                [60.17556, 24.93417],\n",
       "                {&quot;bubblingMouseEvents&quot;: true, &quot;color&quot;: &quot;#3186cc&quot;, &quot;dashArray&quot;: null, &quot;dashOffset&quot;: null, &quot;fill&quot;: true, &quot;fillColor&quot;: &quot;#3186cc&quot;, &quot;fillOpacity&quot;: 0.2, &quot;fillRule&quot;: &quot;evenodd&quot;, &quot;lineCap&quot;: &quot;round&quot;, &quot;lineJoin&quot;: &quot;round&quot;, &quot;opacity&quot;: 1.0, &quot;radius&quot;: 30, &quot;stroke&quot;: true, &quot;weight&quot;: 3}\n",
       "            ).addTo(map_fed2fc4189f42676d087acdd8551bd59);\n",
       "        \n",
       "    \n",
       "        var popup_061acdbda8aa52ee2e28b93030d96667 = L.popup({&quot;maxWidth&quot;: &quot;100%&quot;});\n",
       "\n",
       "        \n",
       "            \n",
       "                var html_218a56f5b409f6518f3d563a85b979a0 = $(`&lt;div id=&quot;html_218a56f5b409f6518f3d563a85b979a0&quot; style=&quot;width: 100.0%; height: 100.0%;&quot;&gt;http://www.wikidata.org/entity/Q33&lt;/div&gt;`)[0];\n",
       "                popup_061acdbda8aa52ee2e28b93030d96667.setContent(html_218a56f5b409f6518f3d563a85b979a0);\n",
       "            \n",
       "        \n",
       "\n",
       "        circle_marker_9c6d636e1613ccfbd350f1fe49b5e6e0.bindPopup(popup_061acdbda8aa52ee2e28b93030d96667)\n",
       "        ;\n",
       "\n",
       "        \n",
       "    \n",
       "    \n",
       "            var circle_marker_64087ef0405c47c5e46063eb9cc193a7 = L.circleMarker(\n",
       "                [59.329444444, 18.068611111],\n",
       "                {&quot;bubblingMouseEvents&quot;: true, &quot;color&quot;: &quot;#3186cc&quot;, &quot;dashArray&quot;: null, &quot;dashOffset&quot;: null, &quot;fill&quot;: true, &quot;fillColor&quot;: &quot;#3186cc&quot;, &quot;fillOpacity&quot;: 0.2, &quot;fillRule&quot;: &quot;evenodd&quot;, &quot;lineCap&quot;: &quot;round&quot;, &quot;lineJoin&quot;: &quot;round&quot;, &quot;opacity&quot;: 1.0, &quot;radius&quot;: 20, &quot;stroke&quot;: true, &quot;weight&quot;: 3}\n",
       "            ).addTo(map_fed2fc4189f42676d087acdd8551bd59);\n",
       "        \n",
       "    \n",
       "        var popup_f775e3f44a6e5e48a8c6756ff3a0d16c = L.popup({&quot;maxWidth&quot;: &quot;100%&quot;});\n",
       "\n",
       "        \n",
       "            \n",
       "                var html_b84acf36b3af1387c5132298c4eff6a3 = $(`&lt;div id=&quot;html_b84acf36b3af1387c5132298c4eff6a3&quot; style=&quot;width: 100.0%; height: 100.0%;&quot;&gt;http://www.wikidata.org/entity/Q34&lt;/div&gt;`)[0];\n",
       "                popup_f775e3f44a6e5e48a8c6756ff3a0d16c.setContent(html_b84acf36b3af1387c5132298c4eff6a3);\n",
       "            \n",
       "        \n",
       "\n",
       "        circle_marker_64087ef0405c47c5e46063eb9cc193a7.bindPopup(popup_f775e3f44a6e5e48a8c6756ff3a0d16c)\n",
       "        ;\n",
       "\n",
       "        \n",
       "    \n",
       "    \n",
       "            var circle_marker_46c430414bd67bbd124545224a7f3620 = L.circleMarker(\n",
       "                [52.383333333, 4.9],\n",
       "                {&quot;bubblingMouseEvents&quot;: true, &quot;color&quot;: &quot;#3186cc&quot;, &quot;dashArray&quot;: null, &quot;dashOffset&quot;: null, &quot;fill&quot;: true, &quot;fillColor&quot;: &quot;#3186cc&quot;, &quot;fillOpacity&quot;: 0.2, &quot;fillRule&quot;: &quot;evenodd&quot;, &quot;lineCap&quot;: &quot;round&quot;, &quot;lineJoin&quot;: &quot;round&quot;, &quot;opacity&quot;: 1.0, &quot;radius&quot;: 20, &quot;stroke&quot;: true, &quot;weight&quot;: 3}\n",
       "            ).addTo(map_fed2fc4189f42676d087acdd8551bd59);\n",
       "        \n",
       "    \n",
       "        var popup_35288e171b060fa90385b8c24efbf27c = L.popup({&quot;maxWidth&quot;: &quot;100%&quot;});\n",
       "\n",
       "        \n",
       "            \n",
       "                var html_f5094ad8d78b47d8cd468e1d3233a25d = $(`&lt;div id=&quot;html_f5094ad8d78b47d8cd468e1d3233a25d&quot; style=&quot;width: 100.0%; height: 100.0%;&quot;&gt;http://www.wikidata.org/entity/Q55&lt;/div&gt;`)[0];\n",
       "                popup_35288e171b060fa90385b8c24efbf27c.setContent(html_f5094ad8d78b47d8cd468e1d3233a25d);\n",
       "            \n",
       "        \n",
       "\n",
       "        circle_marker_46c430414bd67bbd124545224a7f3620.bindPopup(popup_35288e171b060fa90385b8c24efbf27c)\n",
       "        ;\n",
       "\n",
       "        \n",
       "    \n",
       "    \n",
       "            var circle_marker_160756090bf659639acb3d8b4fba3cb1 = L.circleMarker(\n",
       "                [48.856944444, 2.351388888],\n",
       "                {&quot;bubblingMouseEvents&quot;: true, &quot;color&quot;: &quot;#3186cc&quot;, &quot;dashArray&quot;: null, &quot;dashOffset&quot;: null, &quot;fill&quot;: true, &quot;fillColor&quot;: &quot;#3186cc&quot;, &quot;fillOpacity&quot;: 0.2, &quot;fillRule&quot;: &quot;evenodd&quot;, &quot;lineCap&quot;: &quot;round&quot;, &quot;lineJoin&quot;: &quot;round&quot;, &quot;opacity&quot;: 1.0, &quot;radius&quot;: 10, &quot;stroke&quot;: true, &quot;weight&quot;: 3}\n",
       "            ).addTo(map_fed2fc4189f42676d087acdd8551bd59);\n",
       "        \n",
       "    \n",
       "        var popup_59bcd1c3ec2536f95b59c7b07eb91bd6 = L.popup({&quot;maxWidth&quot;: &quot;100%&quot;});\n",
       "\n",
       "        \n",
       "            \n",
       "                var html_e435ec794c8bc4569544b901605b87c2 = $(`&lt;div id=&quot;html_e435ec794c8bc4569544b901605b87c2&quot; style=&quot;width: 100.0%; height: 100.0%;&quot;&gt;http://www.wikidata.org/entity/Q142&lt;/div&gt;`)[0];\n",
       "                popup_59bcd1c3ec2536f95b59c7b07eb91bd6.setContent(html_e435ec794c8bc4569544b901605b87c2);\n",
       "            \n",
       "        \n",
       "\n",
       "        circle_marker_160756090bf659639acb3d8b4fba3cb1.bindPopup(popup_59bcd1c3ec2536f95b59c7b07eb91bd6)\n",
       "        ;\n",
       "\n",
       "        \n",
       "    \n",
       "    \n",
       "            var circle_marker_64ee2fa1590c474a335d81a3bc315d8c = L.circleMarker(\n",
       "                [51.507222222, -0.1275],\n",
       "                {&quot;bubblingMouseEvents&quot;: true, &quot;color&quot;: &quot;#3186cc&quot;, &quot;dashArray&quot;: null, &quot;dashOffset&quot;: null, &quot;fill&quot;: true, &quot;fillColor&quot;: &quot;#3186cc&quot;, &quot;fillOpacity&quot;: 0.2, &quot;fillRule&quot;: &quot;evenodd&quot;, &quot;lineCap&quot;: &quot;round&quot;, &quot;lineJoin&quot;: &quot;round&quot;, &quot;opacity&quot;: 1.0, &quot;radius&quot;: 10, &quot;stroke&quot;: true, &quot;weight&quot;: 3}\n",
       "            ).addTo(map_fed2fc4189f42676d087acdd8551bd59);\n",
       "        \n",
       "    \n",
       "        var popup_1d37ae1707399382e348cea6a228d86b = L.popup({&quot;maxWidth&quot;: &quot;100%&quot;});\n",
       "\n",
       "        \n",
       "            \n",
       "                var html_1a35932fcf1f89aa52c994e5e5e38e8b = $(`&lt;div id=&quot;html_1a35932fcf1f89aa52c994e5e5e38e8b&quot; style=&quot;width: 100.0%; height: 100.0%;&quot;&gt;http://www.wikidata.org/entity/Q145&lt;/div&gt;`)[0];\n",
       "                popup_1d37ae1707399382e348cea6a228d86b.setContent(html_1a35932fcf1f89aa52c994e5e5e38e8b);\n",
       "            \n",
       "        \n",
       "\n",
       "        circle_marker_64ee2fa1590c474a335d81a3bc315d8c.bindPopup(popup_1d37ae1707399382e348cea6a228d86b)\n",
       "        ;\n",
       "\n",
       "        \n",
       "    \n",
       "    \n",
       "            var circle_marker_c96333b259958a2fef0a73450c367c34 = L.circleMarker(\n",
       "                [44.4, 26.083333333],\n",
       "                {&quot;bubblingMouseEvents&quot;: true, &quot;color&quot;: &quot;#3186cc&quot;, &quot;dashArray&quot;: null, &quot;dashOffset&quot;: null, &quot;fill&quot;: true, &quot;fillColor&quot;: &quot;#3186cc&quot;, &quot;fillOpacity&quot;: 0.2, &quot;fillRule&quot;: &quot;evenodd&quot;, &quot;lineCap&quot;: &quot;round&quot;, &quot;lineJoin&quot;: &quot;round&quot;, &quot;opacity&quot;: 1.0, &quot;radius&quot;: 10, &quot;stroke&quot;: true, &quot;weight&quot;: 3}\n",
       "            ).addTo(map_fed2fc4189f42676d087acdd8551bd59);\n",
       "        \n",
       "    \n",
       "        var popup_a0ea02d91ba1091e370830f390c5d181 = L.popup({&quot;maxWidth&quot;: &quot;100%&quot;});\n",
       "\n",
       "        \n",
       "            \n",
       "                var html_987f889d436bfff7748a3291a3504c98 = $(`&lt;div id=&quot;html_987f889d436bfff7748a3291a3504c98&quot; style=&quot;width: 100.0%; height: 100.0%;&quot;&gt;http://www.wikidata.org/entity/Q218&lt;/div&gt;`)[0];\n",
       "                popup_a0ea02d91ba1091e370830f390c5d181.setContent(html_987f889d436bfff7748a3291a3504c98);\n",
       "            \n",
       "        \n",
       "\n",
       "        circle_marker_c96333b259958a2fef0a73450c367c34.bindPopup(popup_a0ea02d91ba1091e370830f390c5d181)\n",
       "        ;\n",
       "\n",
       "        \n",
       "    \n",
       "    \n",
       "            var circle_marker_7d9b20d9c33820712ef89b755d1381f8 = L.circleMarker(\n",
       "                [9.055555555, 7.491388888],\n",
       "                {&quot;bubblingMouseEvents&quot;: true, &quot;color&quot;: &quot;#3186cc&quot;, &quot;dashArray&quot;: null, &quot;dashOffset&quot;: null, &quot;fill&quot;: true, &quot;fillColor&quot;: &quot;#3186cc&quot;, &quot;fillOpacity&quot;: 0.2, &quot;fillRule&quot;: &quot;evenodd&quot;, &quot;lineCap&quot;: &quot;round&quot;, &quot;lineJoin&quot;: &quot;round&quot;, &quot;opacity&quot;: 1.0, &quot;radius&quot;: 10, &quot;stroke&quot;: true, &quot;weight&quot;: 3}\n",
       "            ).addTo(map_fed2fc4189f42676d087acdd8551bd59);\n",
       "        \n",
       "    \n",
       "        var popup_ea50d2b320cc31b57a32efe0856fcd42 = L.popup({&quot;maxWidth&quot;: &quot;100%&quot;});\n",
       "\n",
       "        \n",
       "            \n",
       "                var html_b0fb80741fae8f191cf7f356b0c33af7 = $(`&lt;div id=&quot;html_b0fb80741fae8f191cf7f356b0c33af7&quot; style=&quot;width: 100.0%; height: 100.0%;&quot;&gt;http://www.wikidata.org/entity/Q1033&lt;/div&gt;`)[0];\n",
       "                popup_ea50d2b320cc31b57a32efe0856fcd42.setContent(html_b0fb80741fae8f191cf7f356b0c33af7);\n",
       "            \n",
       "        \n",
       "\n",
       "        circle_marker_7d9b20d9c33820712ef89b755d1381f8.bindPopup(popup_ea50d2b320cc31b57a32efe0856fcd42)\n",
       "        ;\n",
       "\n",
       "        \n",
       "    \n",
       "    \n",
       "            var circle_marker_fddfe02c23b6ad54b21ce9de44a45bdb = L.circleMarker(\n",
       "                [-35.293055555, 149.126944444],\n",
       "                {&quot;bubblingMouseEvents&quot;: true, &quot;color&quot;: &quot;#3186cc&quot;, &quot;dashArray&quot;: null, &quot;dashOffset&quot;: null, &quot;fill&quot;: true, &quot;fillColor&quot;: &quot;#3186cc&quot;, &quot;fillOpacity&quot;: 0.2, &quot;fillRule&quot;: &quot;evenodd&quot;, &quot;lineCap&quot;: &quot;round&quot;, &quot;lineJoin&quot;: &quot;round&quot;, &quot;opacity&quot;: 1.0, &quot;radius&quot;: 10, &quot;stroke&quot;: true, &quot;weight&quot;: 3}\n",
       "            ).addTo(map_fed2fc4189f42676d087acdd8551bd59);\n",
       "        \n",
       "    \n",
       "        var popup_f264d02eca151e855acd3fdd88a84dcc = L.popup({&quot;maxWidth&quot;: &quot;100%&quot;});\n",
       "\n",
       "        \n",
       "            \n",
       "                var html_17880d7882328c53981ebed0bc14b6ee = $(`&lt;div id=&quot;html_17880d7882328c53981ebed0bc14b6ee&quot; style=&quot;width: 100.0%; height: 100.0%;&quot;&gt;http://www.wikidata.org/entity/Q408&lt;/div&gt;`)[0];\n",
       "                popup_f264d02eca151e855acd3fdd88a84dcc.setContent(html_17880d7882328c53981ebed0bc14b6ee);\n",
       "            \n",
       "        \n",
       "\n",
       "        circle_marker_fddfe02c23b6ad54b21ce9de44a45bdb.bindPopup(popup_f264d02eca151e855acd3fdd88a84dcc)\n",
       "        ;\n",
       "\n",
       "        \n",
       "    \n",
       "&lt;/script&gt;\" style=\"position:absolute;width:100%;height:100%;left:0;top:0;border:none !important;\" allowfullscreen webkitallowfullscreen mozallowfullscreen></iframe></div></div>"
      ],
      "text/plain": [
       "<folium.folium.Map at 0x234665a36a0>"
      ]
     },
     "execution_count": 55,
     "metadata": {},
     "output_type": "execute_result"
    }
   ],
   "source": [
    "import folium\n",
    "# Extract latitude and longitude from coordinates in Well-Known Text (WKT) format\n",
    "capitals_coords = capitals.join(capitals.coords.str.extract('Point\\((?P<lon>\\S+) (?P<lat>\\S+)\\)').astype(float))\n",
    "\n",
    "\n",
    "middle = [capitals_coords['lat'].mean(), capitals_coords['lon'].mean()]\n",
    "m = folium.Map(location=middle, zoom_start=2)\n",
    "i = -1\n",
    "i =0\n",
    "for _, row in capitals_coords.iterrows():\n",
    "    for element in Country_label:\n",
    "        if row['label_en'] == element:\n",
    "            x = 10 * int(Number[i])\n",
    "            i = i+1\n",
    "            folium.CircleMarker(\n",
    "            location=[row['lat'], row['lon']],\n",
    "            radius= x,\n",
    "            popup= row['country'],\n",
    "            color=\"#3186cc\",\n",
    "            fill=True,\n",
    "            fill_color=\"#3186cc\",\n",
    "            ).add_to(m)\n",
    "  \n",
    "    \n",
    "\n",
    "m"
   ]
  },
  {
   "cell_type": "markdown",
   "id": "39629851-5d50-44bc-a590-8260c38ec225",
   "metadata": {
    "tags": []
   },
   "source": [
    "# 9) Current bands of top artists\n",
    "Artists don't always work alone, they may also perform music as part of a musical group / band. "
   ]
  },
  {
   "cell_type": "code",
   "execution_count": 63,
   "id": "90f64fae-b5ae-4f73-b823-cefb6c7c8ab0",
   "metadata": {},
   "outputs": [
    {
     "data": {
      "text/html": [
       "<div>\n",
       "<style scoped>\n",
       "    .dataframe tbody tr th:only-of-type {\n",
       "        vertical-align: middle;\n",
       "    }\n",
       "\n",
       "    .dataframe tbody tr th {\n",
       "        vertical-align: top;\n",
       "    }\n",
       "\n",
       "    .dataframe thead th {\n",
       "        text-align: right;\n",
       "    }\n",
       "</style>\n",
       "<table border=\"1\" class=\"dataframe\">\n",
       "  <thead>\n",
       "    <tr style=\"text-align: right;\">\n",
       "      <th></th>\n",
       "      <th>Artist</th>\n",
       "    </tr>\n",
       "  </thead>\n",
       "  <tbody>\n",
       "    <tr>\n",
       "      <th>0</th>\n",
       "      <td>Chris Martin</td>\n",
       "    </tr>\n",
       "    <tr>\n",
       "      <th>1</th>\n",
       "      <td>Eminem</td>\n",
       "    </tr>\n",
       "    <tr>\n",
       "      <th>2</th>\n",
       "      <td>Guy Berryman</td>\n",
       "    </tr>\n",
       "    <tr>\n",
       "      <th>3</th>\n",
       "      <td>Harry Styles</td>\n",
       "    </tr>\n",
       "    <tr>\n",
       "      <th>4</th>\n",
       "      <td>Jonny_Buckland</td>\n",
       "    </tr>\n",
       "    <tr>\n",
       "      <th>5</th>\n",
       "      <td>Will Champion</td>\n",
       "    </tr>\n",
       "  </tbody>\n",
       "</table>\n",
       "</div>"
      ],
      "text/plain": [
       "           Artist\n",
       "0    Chris Martin\n",
       "1          Eminem\n",
       "2    Guy Berryman\n",
       "3    Harry Styles\n",
       "4  Jonny_Buckland\n",
       "5   Will Champion"
      ]
     },
     "execution_count": 63,
     "metadata": {},
     "output_type": "execute_result"
    }
   ],
   "source": [
    "%%sparql http://localhost:7200/repositories/FinalProject -s bands\n",
    "PREFIX rdf: <http://www.w3.org/1999/02/22-rdf-syntax-ns#>\n",
    "PREFIX mus: <http://www.semanticweb.org/no/ontologies/2022/9/MusicalArtists#>\n",
    "PREFIX dbo: <http://dbpedia.org/ontology/>\n",
    "PREFIX foaf: <http://xmlns.com/foaf/0.1/>\n",
    "\n",
    "SELECT ?Artist\n",
    "WHERE\n",
    "{\n",
    "    ?artist rdf:type mus:BandMember .\n",
    "    ?artist dbo:Name ?Artist .\n",
    "    ?artist mus:partOfBand ?band .\n",
    "}\n",
    "GROUP BY ?Artist ?Band"
   ]
  },
  {
   "cell_type": "markdown",
   "id": "224c563c-f5de-40e7-aa81-10ac2b1eb7f1",
   "metadata": {
    "tags": []
   },
   "source": [
    "# 10) Top 10 artists whith the highest number of bands they have been in during their career.\n",
    "Another way to determine which artists enjoy collaboration is to see how many bands they were in."
   ]
  },
  {
   "cell_type": "code",
   "execution_count": 64,
   "id": "d99a9ea6-3345-46c5-9778-7469ac65e2d3",
   "metadata": {},
   "outputs": [
    {
     "data": {
      "text/html": [
       "<div>\n",
       "<style scoped>\n",
       "    .dataframe tbody tr th:only-of-type {\n",
       "        vertical-align: middle;\n",
       "    }\n",
       "\n",
       "    .dataframe tbody tr th {\n",
       "        vertical-align: top;\n",
       "    }\n",
       "\n",
       "    .dataframe thead th {\n",
       "        text-align: right;\n",
       "    }\n",
       "</style>\n",
       "<table border=\"1\" class=\"dataframe\">\n",
       "  <thead>\n",
       "    <tr style=\"text-align: right;\">\n",
       "      <th></th>\n",
       "      <th>Artist</th>\n",
       "      <th>BandCount</th>\n",
       "    </tr>\n",
       "  </thead>\n",
       "  <tbody>\n",
       "    <tr>\n",
       "      <th>0</th>\n",
       "      <td>Doja Cat</td>\n",
       "      <td>3</td>\n",
       "    </tr>\n",
       "  </tbody>\n",
       "</table>\n",
       "</div>"
      ],
      "text/plain": [
       "     Artist  BandCount\n",
       "0  Doja Cat          3"
      ]
     },
     "execution_count": 64,
     "metadata": {},
     "output_type": "execute_result"
    }
   ],
   "source": [
    "%%sparql http://localhost:7200/repositories/FinalProject -s bandcount\n",
    "PREFIX rdf: <http://www.w3.org/1999/02/22-rdf-syntax-ns#>\n",
    "PREFIX mus: <http://www.semanticweb.org/no/ontologies/2022/9/MusicalArtists#>\n",
    "PREFIX dbo: <http://dbpedia.org/ontology/>\n",
    "PREFIX foaf: <http://xmlns.com/foaf/0.1/>\n",
    "\n",
    "SELECT ?Artist (COUNT(?Band) as ?BandCount)\n",
    "WHERE\n",
    "{\n",
    "    ?artist rdf:type mus:Artist .\n",
    "    ?artist dbo:Name ?Artist .\n",
    "    SERVICE <https://dbpedia.org/sparql> {\n",
    "        ?singer foaf:name ?Artist .\n",
    "        ?singer dbo:associatedBand ?Band .\n",
    "    } \n",
    "}\n",
    "GROUP BY ?Artist \n",
    "ORDER BY DESC(?BandCount)\n",
    "LIMIT 10"
   ]
  },
  {
   "cell_type": "markdown",
   "id": "167f906c-bbe8-4188-a7c7-9ba72e87265e",
   "metadata": {
    "tags": []
   },
   "source": [
    "### 10) Visualisation"
   ]
  },
  {
   "cell_type": "code",
   "execution_count": 85,
   "id": "f72f4d76-ce91-4863-aaca-cb7869ffafda",
   "metadata": {},
   "outputs": [
    {
     "data": {
      "text/plain": [
       "<AxesSubplot: ylabel='BandCount'>"
      ]
     },
     "execution_count": 85,
     "metadata": {},
     "output_type": "execute_result"
    },
    {
     "data": {
      "image/png": "[encoded data removed]",
      "text/plain": [
       "<Figure size 640x480 with 1 Axes>"
      ]
     },
     "metadata": {},
     "output_type": "display_data"
    }
   ],
   "source": [
    "bandcount.set_index('Artist', inplace=True)\n",
    "bandcount['BandCount'].plot.pie()"
   ]
  }
 ],
 "metadata": {
  "kernelspec": {
   "display_name": "Python 3.10.8 64-bit (microsoft store)",
   "language": "python",
   "name": "python3"
  },
  "language_info": {
   "codemirror_mode": {
    "name": "ipython",
    "version": 3
   },
   "file_extension": ".py",
   "mimetype": "text/x-python",
   "name": "python",
   "nbconvert_exporter": "python",
   "pygments_lexer": "ipython3",
   "version": "3.10.8"
  },
  "vscode": {
   "interpreter": {
    "hash": "1365924ec5f42ae26c892d170baeb60b5e24a1a84756cca2fbf9993850ab3c1c"
   }
  }
 },
 "nbformat": 4,
 "nbformat_minor": 5
}
