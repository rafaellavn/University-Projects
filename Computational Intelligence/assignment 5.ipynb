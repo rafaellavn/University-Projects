{
 "cells": [
  {
   "cell_type": "markdown",
   "metadata": {
    "id": "QRBDdr0SEqpT"
   },
   "source": [
    "# Assignment 5"
   ]
  },
  {
   "cell_type": "markdown",
   "metadata": {
    "id": "8xd57TRzExEr"
   },
   "source": [
    "**Assignment 5: Neuroevolution**\n",
    "\n",
    "**Goal**: ​Get familiar with neural architecture search by applying an evolutionary algorithm to select the best architecture of a neural network."
   ]
  },
  {
   "cell_type": "markdown",
   "metadata": {
    "id": "yHNgWB1iFDu5"
   },
   "source": [
    "In this assignment, we are going to use an evolutionary algorithm for selecting the best architecture of a neural network. As such, this assignment can be seen as a combination of assignment 3 and assignment 4. Similar to assignment 4, the neural network is trained on images (the code is implemented in PyTorch)."
   ]
  },
  {
   "cell_type": "code",
   "execution_count": 1,
   "metadata": {
    "id": "g4wCnPRz-MaE"
   },
   "outputs": [],
   "source": [
    "import os\n",
    "\n",
    "import numpy as np\n",
    "import matplotlib.pyplot as plt\n",
    "import torch\n",
    "from sklearn.datasets import load_digits\n",
    "from sklearn import datasets\n",
    "from torch.utils.data import Dataset, DataLoader\n",
    "import torch.nn as nn\n",
    "import torch.nn.functional as F\n",
    "from torch.autograd import Variable\n",
    "import pickle\n",
    "import copy\n",
    "import random\n",
    "from scipy.integrate import solve_ivp\n",
    "from math import floor\n",
    "\n",
    "EPS = 1.e-7"
   ]
  },
  {
   "cell_type": "code",
   "execution_count": 2,
   "metadata": {
    "id": "Xm4e0Utl-30c"
   },
   "outputs": [],
   "source": [
    "# PLEASE DO NOT REMOVE!\n",
    "# This is a class for the dataset of small (8px x 8px) digits.\n",
    "# Please try to understand in details how it works!\n",
    "class Digits(Dataset):\n",
    "    \"\"\"Scikit-Learn Digits dataset.\"\"\"\n",
    "    def __init__(self, mode='train', transforms=None):\n",
    "        digits = load_digits()\n",
    "        if mode == 'train':\n",
    "            self.data = digits.data[:1000].astype(np.float32)\n",
    "            self.targets = digits.target[:1000]\n",
    "        elif mode == 'val':\n",
    "            self.data = digits.data[1000:1350].astype(np.float32)\n",
    "            self.targets = digits.target[1000:1350]\n",
    "        else:\n",
    "            self.data = digits.data[1350:].astype(np.float32)\n",
    "            self.targets = digits.target[1350:]\n",
    "        self.transforms = transforms\n",
    "\n",
    "    def __len__(self):\n",
    "        return len(self.data)\n",
    "\n",
    "    def __getitem__(self, idx):\n",
    "        sample_x = self.data[idx]\n",
    "        sample_y = self.targets[idx]\n",
    "        if self.transforms:\n",
    "            sample_x = self.transforms(sample_x)\n",
    "        return (sample_x, sample_y)"
   ]
  },
  {
   "cell_type": "markdown",
   "metadata": {
    "id": "wgc_GFOyRBEi"
   },
   "source": [
    "## 2 Neural Networks module"
   ]
  },
  {
   "cell_type": "markdown",
   "metadata": {},
   "source": [
    "### 2.1.1 Neural Network helper functions"
   ]
  },
  {
   "cell_type": "code",
   "execution_count": 3,
   "metadata": {
    "id": "5AB5Ch63Ak01"
   },
   "outputs": [],
   "source": [
    "# PLEASE DO NOT REMOVE!\n",
    "# Here are two auxiliary functions that can be used for a convolutional NN (CNN).\n",
    "\n",
    "# This module reshapes an input (matrix -> tensor).\n",
    "class Reshape(nn.Module):\n",
    "    def __init__(self, size):\n",
    "        super(Reshape, self).__init__()\n",
    "        self.size = size # a list\n",
    "  \n",
    "    def forward(self, x):\n",
    "        assert x.shape[1] == np.prod(self.size)\n",
    "        return x.view(x.shape[0], *self.size)\n",
    "\n",
    "# This module flattens an input (tensor -> matrix) by blending dimensions \n",
    "# beyond the batch size.\n",
    "class Flatten(nn.Module):\n",
    "    def __init__(self):\n",
    "        super(Flatten, self).__init__()\n",
    "  \n",
    "    def forward(self, x):\n",
    "        return x.view(x.shape[0], -1)"
   ]
  },
  {
   "cell_type": "markdown",
   "metadata": {},
   "source": [
    "### 2.1.2 Neural Network Classifier"
   ]
  },
  {
   "cell_type": "code",
   "execution_count": 4,
   "metadata": {
    "id": "Vtv_pAkmOrS3"
   },
   "outputs": [],
   "source": [
    "# Implement a neural network (NN) classifier. \n",
    "class ClassifierNeuralNet(nn.Module):\n",
    "    def __init__(self, confg_list):\n",
    "        super(ClassifierNeuralNet, self).__init__()\n",
    "        # We provide a sequential module with layers and activations\n",
    "        # The loss function (the negative log-likelihood)\n",
    "        self.LogSoftMax = nn.LogSoftmax(dim=1)\n",
    "        self.nll = nn.NLLLoss() #it requires log-softmax as input!!\n",
    "        # We create a configuration list to have easier to all configurations-\n",
    "        # for generating populations in the evolutionary algorithm later\n",
    "        self.confg_list = confg_list\n",
    "        \n",
    "        # We provide a sequential module with layers and activations\n",
    "        self.num_filters = confg_list[0]\n",
    "        self.size_kernel = confg_list[1][0]\n",
    "        self.size_padding = confg_list[1][1]\n",
    "        self.pool_size = confg_list[2]\n",
    "        self.pool_type = confg_list[3]\n",
    "        self.activation_1 = confg_list[4]\n",
    "        self.activation_2 = confg_list[5]\n",
    "        self.output_neurons = confg_list[6]\n",
    "        self.height_1 = ((8 - self.size_kernel + (2*self.size_padding) )//1) + 1\n",
    "        self.height_2 = ((self.height_1 - self.pool_size + (2*0) )//1) + 1\n",
    "        self.lin_input = self.num_filters * self.height_2 * self.height_2\n",
    "        \n",
    "        if self.pool_type == 'avg':\n",
    "            self.pool = nn.AvgPool2d\n",
    "        else:\n",
    "            self.pool = nn.MaxPool2d\n",
    "        \n",
    "        self.classcnn = nn.Sequential(\n",
    "            Reshape(size=(1,8,8)),\n",
    "            nn.Conv2d(in_channels=1, out_channels=self.num_filters,\n",
    "                      kernel_size=self.size_kernel, stride=1, padding=self.size_padding),\n",
    "            self.activation_1(),\n",
    "            self.pool(kernel_size=self.pool_size, stride=1),\n",
    "            Flatten(),\n",
    "            nn.Linear(in_features=self.lin_input, out_features=self.output_neurons),\n",
    "            self.activation_2(),\n",
    "            nn.Linear(in_features=self.output_neurons, out_features=10),\n",
    "            nn.LogSoftmax(dim=1)\n",
    "        )\n",
    "\n",
    "    # This function classifies an image x to a class.\n",
    "    # The output must be a class label (long).\n",
    "    def classify(self, x):\n",
    "        outputs = self.classcnn(x)\n",
    "        max_elements, max_indices = torch.max(outputs, 1)\n",
    "        y_pred = max_indices.to(torch.long)\n",
    "        return y_pred\n",
    "\n",
    "    # This function is crucial for a module in PyTorch.\n",
    "    # In our framework, this class outputs a value of the loss function.\n",
    "    def forward(self, x, y, reduction='avg'):\n",
    "        loss = self.nll(self.classcnn(x),y.long())\n",
    "        if reduction == 'sum':\n",
    "            return loss.sum()\n",
    "        else:\n",
    "            return loss.mean()"
   ]
  },
  {
   "cell_type": "markdown",
   "metadata": {
    "id": "HVqRQduw3mgm"
   },
   "source": [
    "### 2.2 Evaluation function + Helper for plotting the results"
   ]
  },
  {
   "cell_type": "code",
   "execution_count": 5,
   "metadata": {
    "id": "4g9uUFgYP1kT"
   },
   "outputs": [],
   "source": [
    "# PLEASE DO NOT REMOVE\n",
    "def evaluation(test_loader, model_best, epoch):\n",
    "    model_best.eval()# set the model to the evaluation mode\n",
    "    loss_test = 0.\n",
    "    loss_error = 0.\n",
    "    N = 0.\n",
    "    # start evaluation\n",
    "    for indx_batch, (test_batch, test_targets) in enumerate(test_loader):\n",
    "        # loss (nll)\n",
    "        loss_test_batch = model_best.forward(test_batch, test_targets, reduction='sum')\n",
    "        loss_test = loss_test + loss_test_batch.item()\n",
    "        # classification error\n",
    "        y_pred = model_best.classify(test_batch)\n",
    "        e = 1.*(y_pred == test_targets.long())\n",
    "        loss_error = loss_error + (1. - e).sum().item()\n",
    "        # the number of examples\n",
    "        N = N + test_batch.shape[0]\n",
    "    # divide by the number of examples\n",
    "    loss_test = loss_test / N\n",
    "    loss_error = loss_error / N\n",
    "    return loss_test, loss_error\n",
    "\n",
    "# An auxiliary function for plotting the performance curves\n",
    "def plot_curve(name, signal, file_name='curve.pdf', xlabel='epochs', ylabel='nll', color='b-', test_eval=None):\n",
    "    # plot the curve\n",
    "    plt.plot(np.arange(len(signal)), signal, color, linewidth='3', label=ylabel +' val')\n",
    "    # if available, add the final (test) performance\n",
    "    if test_eval is not None:\n",
    "        plt.hlines(test_eval, xmin=0, xmax=len(signal), linestyles='dashed', label=ylabel +' test')\n",
    "        plt.text(len(signal), test_eval, \"{:.3f}\".format(test_eval),)\n",
    "    # set x- and ylabels, add legend, save the figure\n",
    "    plt.xlabel(xlabel), plt.ylabel(ylabel)\n",
    "    plt.legend()\n",
    "    plt.savefig(name + file_name, bbox_inches='tight')\n",
    "    plt.show()"
   ]
  },
  {
   "cell_type": "markdown",
   "metadata": {
    "id": "YzRd-TiY3puF"
   },
   "source": [
    "### 2.3 Training procedure"
   ]
  },
  {
   "cell_type": "code",
   "execution_count": 6,
   "metadata": {
    "id": "CMhQWbM1QcBM"
   },
   "outputs": [],
   "source": [
    "# PLEASE DO NOT REMOVE!\n",
    "# The training procedure\n",
    "def training(max_patience, num_epochs, model, optimizer, training_loader, val_loader):\n",
    "    nll_val = []\n",
    "    error_val = []\n",
    "    best_nll = 1000.\n",
    "    patience = 0\n",
    "\n",
    "    # Main training loop\n",
    "    for e in range(num_epochs):\n",
    "        model.train() # set the model to the training mode\n",
    "        # load batches\n",
    "        for indx_batch, (batch, targets) in enumerate(training_loader):\n",
    "            # remember we need to zero gradients! Just in case!\n",
    "            optimizer.zero_grad()\n",
    "            # calculate the forward pass (loss function for given images and labels)\n",
    "            loss = model.forward(batch, targets)\n",
    "            # calculate backward pass\n",
    "            loss.backward(retain_graph=True)\n",
    "            # run the optimizer\n",
    "            optimizer.step()\n",
    "        # Validation: Evaluate the model on the validation data\n",
    "        loss_e, error_e = evaluation(test_loader=val_loader, model_best=model, epoch=num_epochs)\n",
    "        nll_val.append(loss_e)  # save for plotting\n",
    "        error_val.append(error_e)  # save for plotting\n",
    "\n",
    "        # Early-stopping: update the best performing model and break training if no \n",
    "        # progress is observed.\n",
    "        if e == 0:\n",
    "            best_nll = loss_e\n",
    "        else:\n",
    "            if loss_e < best_nll:\n",
    "                best_nll = loss_e\n",
    "                patience = 0\n",
    "            else:\n",
    "                patience = patience + 1\n",
    "\n",
    "        if patience > max_patience:\n",
    "            break\n",
    "    # Return nll and classification error.\n",
    "    nll_val = np.asarray(nll_val)\n",
    "    error_val = np.asarray(error_val)\n",
    "    return nll_val, error_val"
   ]
  },
  {
   "cell_type": "markdown",
   "metadata": {
    "id": "gHYGz3G87nuk"
   },
   "source": [
    "### 3 Evolutionary Algorithm module"
   ]
  },
  {
   "cell_type": "code",
   "execution_count": 7,
   "metadata": {},
   "outputs": [],
   "source": [
    "# It is equivalent to implementing the step function.\n",
    "class EA(object):\n",
    "    def __init__(self, pop_size, evaluation_function):\n",
    "        self.pop_size = pop_size\n",
    "        self.eval_fn = evaluation_function\n",
    "        # We will use nr_of_parents to determine the number of parents that will be selected for mating\n",
    "        self.nr_of_parents = 6\n",
    "        self.epoch_nr = 1\n",
    "        self.learning_rate = 1e-3\n",
    "        self.weight_decay = 1e-5\n",
    "        self.max_patience = 1\n",
    "\n",
    "    def evaluate(self, data, model, w_list):\n",
    "        loss_error = self.eval_fn(test_loader=data, model_best=model, epoch=self.epoch_nr)[1]\n",
    "        model_total_params = sum(p.numel() for p in model.parameters())\n",
    "        p = 0.01 * (model_total_params/max(w_list))\n",
    "        return loss_error + p\n",
    "        \n",
    "    def parent_selection(self, x_old, f_old, w_old):\n",
    "        # The self.nr_of_parents is the number of parents that are selected in each mating\n",
    "        x_parents = []\n",
    "        f_parents = []\n",
    "        w_parents = []\n",
    "        for i in range(self.nr_of_parents):\n",
    "            # Here, we will choose the parents with the best fitness among the population\n",
    "            # Note: Normally the Evolutionary Algorithm works towards -\n",
    "            # maximising the measure objective (fitness function).\n",
    "            # This means that the higher the f_old value is the fitter the parents are.\n",
    "            # However, since our optimization task is to minimize the value of f_old,-\n",
    "            # we use np.min() to pick the fittest parents.\n",
    "            # min_ind is the index with the parent that has the minimum f_old value.\n",
    "            np.asarray(f_old)\n",
    "            min_ind = np.where(f_old == np.min(f_old))\n",
    "            min_ind = min_ind[0][0]\n",
    "            # Here we choose the parent with the minimum fitness value from-\n",
    "            # our population and add them to our selected parents\n",
    "            x_parents.append(x_old[min_ind])\n",
    "            # Here we add the number of weights of this parent to our weights list (for evaluation purposes)\n",
    "            w_parents.append(sum(p.numel() for p in x_old[min_ind].parameters() if p.requires_grad==True))\n",
    "            # We then return the fittness of all the parent by using our evaluation function-\n",
    "            # and we save them in the variable f_parents\n",
    "            f_parents.append(f_old[min_ind])\n",
    "            # Here we set the minumum value of f_old that we just used for selection-\n",
    "            # to +infity to avoid duplication when we want to select the other parents.\n",
    "            f_old[min_ind] = float('inf')\n",
    "        return x_parents, f_parents, w_parents\n",
    "\n",
    "    def recombination(self, x_parents):\n",
    "        # We set the size of the children population that we want to create in \"children_size\"\n",
    "        # The algorithm for this is the size of the original population minus the number of parents-\n",
    "        # that we have selected. This formula can be modified to ones desire dependng on the task at hand\n",
    "        children_size = self.pop_size-self.nr_of_parents\n",
    "        # We create an empty array to add the childrens after mating \n",
    "        rand_int = random.randint(0,6)\n",
    "        x_children = []\n",
    "        for j in range(children_size):\n",
    "            child_conf = []\n",
    "            # Index of the first parent for mating\n",
    "            P_a = random.randint(0,len(x_parents)-1)\n",
    "            # Index of the second parent for mating\n",
    "            P_b = random.randint(0,len(x_parents)-1)\n",
    "            P_a_conf = x_parents[P_a].confg_list\n",
    "            P_b_conf = x_parents[P_b].confg_list\n",
    "            child_conf [:rand_int] = P_a_conf[:rand_int]\n",
    "            child_conf [rand_int:] = P_b_conf[rand_int:]\n",
    "            # The new child will have its values from the parents by averaging the values of two parents together\n",
    "            new_child = ClassifierNeuralNet(child_conf)\n",
    "            x_children.append(new_child)\n",
    "        return x_children\n",
    "    \n",
    "    def mutation(self, x_children, w_old, training_fn, training_loader, val_loader):\n",
    "        f_children = []\n",
    "        w_children = []\n",
    "        cnn_filters = [8,16,32]\n",
    "        cnn_kernel_paddings = [[2,1],[5,2]]\n",
    "        cnn_pooling_sizes = [2,1]\n",
    "        cnn_pooling_types = ['max', 'avg']\n",
    "        cnn_activations = [nn.Tanh, nn.ReLU,nn.Sigmoid,nn.ELU,nn.Softplus]\n",
    "        cnn_linear_neurons = [10, 20, 30, 40, 50, 60, 70, 80, 90, 100]\n",
    "        all_choices = [cnn_filters, cnn_kernel_paddings, cnn_pooling_sizes,\n",
    "                      cnn_pooling_types, cnn_activations, cnn_activations, cnn_linear_neurons]\n",
    "        # we randomly modify a single value in each reproduced child.\n",
    "        for j in range(len(x_children)):\n",
    "            random_index = random.randint(0,6)\n",
    "            # We generate a random value for replacement\n",
    "            random_modification = random.choice(all_choices[random_index])\n",
    "            # We replace the value of the child with our random value\n",
    "            x_children[j].confg_list[random_index] = random_modification   \n",
    "            optimizer = torch.optim.Adamax([p for p in x_children[j].parameters() if p.requires_grad == True], \n",
    "                                           lr=self.learning_rate, weight_decay=self.weight_decay) \n",
    "            training_fn(max_patience=self.max_patience, num_epochs=self.epoch_nr, model=x_children[j],\n",
    "                        optimizer=optimizer, training_loader=training_loader, val_loader=val_loader)\n",
    "            f_new_child = self.evaluate(data=val_loader, model=x_children[j], w_list=w_old)\n",
    "            w_children.append(sum(p.numel() for p in x_children[j].parameters() if p.requires_grad==True))\n",
    "            f_children.append(f_new_child)\n",
    "\n",
    "        return x_children, f_children, w_children\n",
    "\n",
    "    def survivor_selection(self, x_old, x_parents, x_children, f_old, f_parents, f_children, w_old, w_parents, w_children):\n",
    "        # We update our original population.\n",
    "        # Note: There are number of approaches that can be taken here, but we choose \"elitism\".\n",
    "        # The choise of \"Elitism\" is explained in more detail in the report.\n",
    "        # We will replace the population entirely by the parents and children\n",
    "        x = x_parents + x_children\n",
    "        f = f_parents + f_children\n",
    "        w = w_parents + w_children\n",
    "        return x, f, w\n",
    "  \n",
    "    def step(self, x_old, f_old, w_old, training_fn, training_loader, val_loader):\n",
    "        x_parents, f_parents, w_parents = self.parent_selection(x_old, f_old, w_old)\n",
    "        x_children = self.recombination(x_parents)\n",
    "        x_children, f_children, w_children = self.mutation(x_children, w_old, training_fn, training_loader, val_loader)\n",
    "        x, f, w = self.survivor_selection(x_old, x_parents, x_children, f_old, f_parents, f_children, w_old, w_parents, w_children)\n",
    "        return x, f, w"
   ]
  },
  {
   "cell_type": "markdown",
   "metadata": {},
   "source": [
    "#### Initialize dataloaders"
   ]
  },
  {
   "cell_type": "code",
   "execution_count": 8,
   "metadata": {},
   "outputs": [],
   "source": [
    "# PLEASE DO NOT REMOVE\n",
    "# Initialize training, validation and test sets.\n",
    "train_data = Digits(mode='train')\n",
    "val_data = Digits(mode='val')\n",
    "test_data = Digits(mode='test')\n",
    "\n",
    "# Initialize data loaders.\n",
    "training_loader = DataLoader(train_data, batch_size=64, shuffle=True)\n",
    "val_loader = DataLoader(val_data, batch_size=64, shuffle=True)\n",
    "test_loader = DataLoader(test_data, batch_size=64, shuffle=True)"
   ]
  },
  {
   "cell_type": "markdown",
   "metadata": {},
   "source": [
    "#### Initialize hyperparameters"
   ]
  },
  {
   "cell_type": "code",
   "execution_count": 9,
   "metadata": {},
   "outputs": [],
   "source": [
    "# PLEASE DO NOT REMOVE!\n",
    "D = 64   # input dimension\n",
    "# -> model hyperparams\n",
    "K = 10 # the number of labels\n",
    "# -> training hyperparams\n",
    "lr = 1e-3 # learning rate\n",
    "wd = 1e-5 # weight decay\n",
    "num_epochs = 1 # max. number of epochs\n",
    "max_patience = 1 # an early stopping is used, if training doesn't improve for longer than 5 epochs, it is stopped\n",
    "num_generations = 100 # number of generation to create (the iterations of the EA algorithm)\n",
    "pop_size = 100 # population size in each iteration of the EA algorithm\n",
    "population = [] # initiating the population list\n",
    "fitness = [] # initiating the population's fitness list\n",
    "weights = [] # initiating the population's number of weights list\n",
    "configurations_init = [] # initiating an empty configuration list to assist in generating different individuals\n",
    "cnn_filters = [8, 16, 32] # initiating the list of choices for the filters of the CNN\n",
    "cnn_kernel_paddings = [[2,1],[5,2]] # initiating the list of choices for the Kernel-Padding of the CNN\n",
    "cnn_pooling_sizes = [2,1] # initiating the list of choices for the Pooling sizes of the CNN\n",
    "cnn_pooling_types = ['max', 'avg'] # initiating the list of choices for the Pooling types of the CNN\n",
    "cnn_activations = [nn.Tanh, nn.ReLU,nn.Sigmoid,nn.ELU,nn.Softplus] # initiating the list of choices for the Activation methods for layers\n",
    "cnn_linear_neurons = [10, 20, 30, 40, 50, 60, 70, 80, 90, 100] # initiating the list of choices for the number of neurons of the linear layer"
   ]
  },
  {
   "cell_type": "markdown",
   "metadata": {},
   "source": [
    "#### Initialize population"
   ]
  },
  {
   "cell_type": "code",
   "execution_count": 10,
   "metadata": {},
   "outputs": [],
   "source": [
    "# Generating the population and calculating their fitnees\n",
    "for i in range(pop_size):\n",
    "    # Here, we pick a random value for each choice of the CNN desing\n",
    "    # This line chooses a rendom value from the filter list of [8, 16, 32]\n",
    "    filter_choice = random.choice(cnn_filters)\n",
    "    # This line chooses a rendom value from the Kernel-Padding list of [[2,1],[5,2]]\n",
    "    kernel_padding_choice = random.choice(cnn_kernel_paddings)\n",
    "    # This line chooses a rendom value from the Pooling sizes list of [2,1]\n",
    "    pooling_size_choice = random.choice(cnn_pooling_sizes)\n",
    "    # This line chooses a rendom value from the Pooling types list of ['max', 'avg']\n",
    "    pooling_type_choice = random.choice(cnn_pooling_types)\n",
    "    # This line chooses a rendom value from the Activation methods list of [nn.Tanh, nn.ReLU,nn.Sigmoid,nn.ELU,nn.Softplus]-\n",
    "    # for the first activation\n",
    "    activation_choice_1 = random.choice(cnn_activations)\n",
    "    # This line chooses a rendom value from the Activation methods list of [nn.Tanh, nn.ReLU,nn.Sigmoid,nn.ELU,nn.Softplus]-\n",
    "    # for the second activation\n",
    "    activation_choice_2 = random.choice(cnn_activations)\n",
    "    # This line chooses a rendom value from the number of neurons list of [10, 20, 30, 40, 50, 60, 70, 80, 90, 100]\n",
    "    # Note: This value is used for both the output of the first and the input of the second linear layer.\n",
    "    linear_neurons_choice = random.choice(cnn_linear_neurons)\n",
    "    # We creates a configuration list with all the random choices\n",
    "    rand_confg_list = [filter_choice, kernel_padding_choice, pooling_size_choice, pooling_type_choice, activation_choice_1,\n",
    "                      activation_choice_2, linear_neurons_choice]    \n",
    "    # We then creates a model (individual) with these configurations\n",
    "    CNN_Model = ClassifierNeuralNet(rand_confg_list)\n",
    "    # We define our optimizer for training (choices are explain in the report)\n",
    "    optimizer = torch.optim.Adamax([p for p in CNN_Model.parameters() if p.requires_grad == True], lr=lr, weight_decay=wd) \n",
    "    # We train each individual for 10 epochs\n",
    "    training(max_patience=max_patience, num_epochs=num_epochs, model=CNN_Model,\n",
    "            optimizer=optimizer, training_loader=training_loader, val_loader=val_loader)\n",
    "    # We measure evaluate of each individual and add it to the initial fitnees list\n",
    "    # Note: The penalty for the weights is added in the next cell.\n",
    "    fitness.append(evaluation(test_loader=val_loader, model_best=CNN_Model, epoch=num_epochs)[1])\n",
    "    # We calulate the number of weights of each individual and add it to the initial weights list\n",
    "    weights.append(sum(p.numel() for p in CNN_Model.parameters() if p.requires_grad))\n",
    "    # We add our individual to our initial population list\n",
    "    population.append(CNN_Model) \n",
    "    # Note: This loop runs for the number of our pop-size=100 to create the entire initial population"
   ]
  },
  {
   "cell_type": "code",
   "execution_count": 11,
   "metadata": {},
   "outputs": [],
   "source": [
    "# We calculate the penalty for the number of weights of each individual\n",
    "penalty = [(0.01 * (i/max(weights))) for i in weights]\n",
    "# We add the penalties and adjust the fitnees list accordingly\n",
    "fitness = [j + k for j, k in zip(penalty, fitness)]"
   ]
  },
  {
   "cell_type": "markdown",
   "metadata": {},
   "source": [
    "#### running the Evolutionary Algorithm process"
   ]
  },
  {
   "cell_type": "code",
   "execution_count": 12,
   "metadata": {},
   "outputs": [
    {
     "name": "stdout",
     "output_type": "stream",
     "text": [
      "Generation: 0, best fitness: 0.07549528059388431\n",
      "Generation: 10, best fitness: 0.04508690973150452\n",
      "Generation: 20, best fitness: 0.04508690973150452\n",
      "Generation: 30, best fitness: 0.04508690973150452\n",
      "Generation: 40, best fitness: 0.0421977660457757\n",
      "Generation: 50, best fitness: 0.0421977660457757\n",
      "Generation: 60, best fitness: 0.0421977660457757\n",
      "Generation: 70, best fitness: 0.0421977660457757\n",
      "Generation: 80, best fitness: 0.0421977660457757\n",
      "Generation: 90, best fitness: 0.0421977660457757\n",
      "FINISHED!\n"
     ]
    }
   ],
   "source": [
    "# We difine our object for the EA algorithm in order to call it later\n",
    "ea = EA(pop_size,evaluation)\n",
    "# We difine the f_best list to keep track of the best fitnees of the generations for the convergence plot\n",
    "f_best = [min(fitness)]\n",
    "# We difine the best_ind variable to keep track of the best individual (CNN) of the generations\n",
    "best_ind = []\n",
    "# We run the EA algorithm for the num_generations=100\n",
    "for i in range(num_generations):\n",
    "    # Since this number is very large, we only print each 10% of the genration (40,80,120,etc.)\n",
    "    if i % int(num_generations * 0.1) == 0:\n",
    "        # Print the best fitness of the corresponding generation\n",
    "        print('Generation: {}, best fitness: {}'.format(i, min(fitness)))\n",
    "        # Create the next generation based on the new population\n",
    "        population, fitness, weights = ea.step(x_old=population, f_old=fitness, w_old=weights, \n",
    "                                               training_fn=training, training_loader=training_loader,val_loader=val_loader)\n",
    "    # If there is a lower fitnees among the new population, add it to the f_best and find the corresponding model\n",
    "    if  min(fitness) < f_best[-1]:\n",
    "        np.asarray(fitness)\n",
    "        # We find the index of the best fitness\n",
    "        min_ind = np.where(fitness == np.min(fitness))\n",
    "        min_ind = min_ind[0][0]\n",
    "        # We identify the individual in the population with the same index as the best individual-\n",
    "        # and add it to our list of best individuals from each generation\n",
    "        best_ind.append(population[min_ind])\n",
    "        # We add the new best fitnees to the f_best list\n",
    "        f_best.append(min(fitness))\n",
    "    # If there is no lower fitnees than the previous one, add the previous as the remainign best fitness for now\n",
    "    else:\n",
    "        f_best.append(f_best[-1])\n",
    "\n",
    "print('FINISHED!')"
   ]
  },
  {
   "cell_type": "code",
   "execution_count": 13,
   "metadata": {},
   "outputs": [
    {
     "name": "stdout",
     "output_type": "stream",
     "text": [
      "best individual of the last generation (overall) is: ClassifierNeuralNet(\n",
      "  (LogSoftMax): LogSoftmax(dim=1)\n",
      "  (nll): NLLLoss()\n",
      "  (classcnn): Sequential(\n",
      "    (0): Reshape()\n",
      "    (1): Conv2d(1, 32, kernel_size=(2, 2), stride=(1, 1), padding=(1, 1))\n",
      "    (2): Tanh()\n",
      "    (3): MaxPool2d(kernel_size=2, stride=1, padding=0, dilation=1, ceil_mode=False)\n",
      "    (4): Flatten()\n",
      "    (5): Linear(in_features=2048, out_features=70, bias=True)\n",
      "    (6): ELU(alpha=1.0)\n",
      "    (7): Linear(in_features=70, out_features=10, bias=True)\n",
      "    (8): LogSoftmax(dim=1)\n",
      "  )\n",
      ")\n"
     ]
    }
   ],
   "source": [
    "print(\"best individual of the last generation (overall) is: {}\".format(best_ind[-1]))"
   ]
  },
  {
   "cell_type": "markdown",
   "metadata": {},
   "source": [
    "### 4 Experiments"
   ]
  },
  {
   "cell_type": "markdown",
   "metadata": {},
   "source": [
    "### 4.1 Assignment 4 Plots (For Better Comparison)"
   ]
  },
  {
   "cell_type": "code",
   "execution_count": 17,
   "metadata": {},
   "outputs": [],
   "source": [
    "#=========\n",
    "# GRADING:\n",
    "# 0 \n",
    "# 0.5 pt if code works but it is explained badly\n",
    "# 1.0 pt if code works and it is explained well\n",
    "#=========\n",
    "# Implement a neural network (NN) classifier. \n",
    "class ClassifierNeuralNetAssignment4(nn.Module):\n",
    "    def __init__(self, classnet):\n",
    "        super(ClassifierNeuralNetAssignment4, self).__init__()\n",
    "        # We provide a sequential module with layers and activations\n",
    "        # The output of this module is a LogSoftmax.\n",
    "        self.classnet = classnet\n",
    "        # The loss function (the negative log-likelihood)\n",
    "        self.nll = nn.NLLLoss() #it requires log-softmax as input!!\n",
    "\n",
    "    # This function classifies an image x to a class.\n",
    "    # The output must be a class label (long).\n",
    "    def classify(self, x):\n",
    "        # We first feed the input to the neural network model.\n",
    "        # The output of this model is a Logsoftmax which declares the log-probabilities-\n",
    "        # Of each k (10) classes.\n",
    "        outputs = self.classnet(x)\n",
    "        # We then pick the highest log-probability value-\n",
    "        # and find which index (classes of 0-9) it belongs to\n",
    "        max_elements, max_indices = torch.max(outputs, 1)\n",
    "        # We translate the found class (index) to a torch.long value-\n",
    "        # and we output this as y_pred \n",
    "        y_pred = max_indices.to(torch.long)\n",
    "        return y_pred\n",
    "\n",
    "    # This function is crucial for a module in PyTorch.\n",
    "    # In our framework, this class outputs a value of the loss function.\n",
    "    def forward(self, x, y, reduction='avg'):\n",
    "        # The nn.NLLLoss takes a LogSoftmax probabilty and a target value (long value)-\n",
    "        # as input. It then calculates the loss of the neural network model.\n",
    "        loss = self.nll(self.classnet(x),y.long())\n",
    "        # We also need to define how the totall loss is calculated.\n",
    "        # We have two options of \"averageing\" and \"summing\" over the losses for our formula.\n",
    "        # We assign the reduction accourding to the input of our-\n",
    "        # forward function (which is set to \"avg\" now)\n",
    "        if reduction == 'sum':\n",
    "            return loss.sum()\n",
    "        else:\n",
    "            return loss.mean()"
   ]
  },
  {
   "cell_type": "code",
   "execution_count": 22,
   "metadata": {},
   "outputs": [
    {
     "name": "stdout",
     "output_type": "stream",
     "text": [
      "\n",
      "-> START classifier_mlp\n",
      "-> FINAL PERFORMANCE: nll=0.005835608431290194, ce=0.09619686800894854\n"
     ]
    },
    {
     "data": {
      "image/png": "[encoded data removed]",
      "text/plain": [
       "<Figure size 432x288 with 1 Axes>"
      ]
     },
     "metadata": {
      "needs_background": "light"
     },
     "output_type": "display_data"
    },
    {
     "data": {
      "image/png": "[encoded data removed]",
      "text/plain": [
       "<Figure size 432x288 with 1 Axes>"
      ]
     },
     "metadata": {
      "needs_background": "light"
     },
     "output_type": "display_data"
    },
    {
     "name": "stdout",
     "output_type": "stream",
     "text": [
      "\n",
      "-> START classifier_cnn\n",
      "-> FINAL PERFORMANCE: nll=0.003172011700119215, ce=0.053691275167785234\n"
     ]
    },
    {
     "data": {
      "image/png": "[encoded data removed]",
      "text/plain": [
       "<Figure size 432x288 with 1 Axes>"
      ]
     },
     "metadata": {
      "needs_background": "light"
     },
     "output_type": "display_data"
    },
    {
     "data": {
      "image/png": "[encoded data removed]",
      "text/plain": [
       "<Figure size 432x288 with 1 Axes>"
      ]
     },
     "metadata": {
      "needs_background": "light"
     },
     "output_type": "display_data"
    }
   ],
   "source": [
    "# PLEASE DO NOT REMOVE and FILL IN WHEN NECESSARY!\n",
    "# We will run two models: MLP and CNN\n",
    "names = ['classifier_mlp', 'classifier_cnn']\n",
    "results_dir = \"results_dir\"\n",
    "# loop over models\n",
    "for name in names:\n",
    "    print('\\n-> START {}'.format(name))\n",
    "    # Create a folder if necessary\n",
    "    result_dir = os.path.join(results_dir, name + '/')\n",
    "    if not(os.path.exists(result_dir)):\n",
    "        os.mkdir(result_dir)\n",
    "\n",
    "    # MLP\n",
    "    if name == 'classifier_mlp':\n",
    "        classnet = nn.Sequential(\n",
    "            # We first reshape the input to (1,8,8) to assertain the correct shape of our inputs\n",
    "            Reshape(size=(1,8,8)),\n",
    "            # Since we are feeding the inputs to a linear neural network-\n",
    "            # We need to flatten the images to recieve a 1-dimentional tensor\n",
    "            Flatten(), #input=1*8*8, output=1*64\n",
    "            # We start with a layer of 64 (input dimention) neurons because-\n",
    "            # input features of the first linear layer must macth the number-\n",
    "            # of pixels of the images. We create 3 sequential linear layers.\n",
    "            # This number is a modeling choice. The very last linear layer has to output features-\n",
    "            # equal to the number of classes (here k=10) that we have as labels.\n",
    "            # Finally, the last layer should be a LogSoftmax() activation layer so-\n",
    "            # that we can obtain the class log-probabilities as output. We use ReLU activation after-\n",
    "            # each Linear layer as activation. This is chosen to reduce the effect of negative value (turn them into zeros).\n",
    "            # Note: Although the number of layers are up to individul's choice,\n",
    "            # the value of input features of each linear layer must match the output-\n",
    "            # of the layer before it (to prevent getting errors of mis-matched matrix multiplications.)\n",
    "            nn.Linear(in_features=64 , out_features=64//2), nn.ReLU(), #input=1*64, output=1*32\n",
    "            nn.Linear(in_features=64//2 , out_features=64//4), nn.ReLU(), #input=1*32, output=1*16\n",
    "            nn.Linear(in_features=64//4 , out_features=K), nn.LogSoftmax(dim=1) #input=1*16, output=1*10\n",
    "        )\n",
    "\n",
    "    # CNN\n",
    "    elif name == 'classifier_cnn':\n",
    "        classnet = nn.Sequential(\n",
    "            # We first reshape the input to (1,8,8) to assertain the correct shape of our inputs.\n",
    "            Reshape(size=(1,8,8)),\n",
    "            # Since we are feeding the inputs to a convolutional neural network-\n",
    "            # We do not need to flatten the images, and we immidiatly start-\n",
    "            # with the \"Conv2d\" layer. Since the input has \"1\" channel (the image is black and white)-\n",
    "            # we have \"1\" as input and \"num_kernels\" as output channels of the conv2d layer. we chose a kernel-\n",
    "            # size of 2*2 for this architecture. It is important to note that since the input-\n",
    "            # is a 8*8 = 16 pixels image, the kernel size must be chosen in a way that does not-\n",
    "            # exceed or fit the whole image in one go (2*2=4 or 3*3=9 pixels kernel both seem appropriate choices).\n",
    "            # In addition, we add a padding of 1 (zero rows and columns around the image)-\n",
    "            # in order to scan the borders more efficiently. We use ReLU activation after the-\n",
    "            # conv2d layer as activation. This is chosen to reduce the effect of negative value (turn them into zeros).\n",
    "            # The ouput of the conv2d layer is calculated by the fomula ((W−F+2*P)/S)+1 * ((W−F+2*P)/S)+1 with-\n",
    "            # W as input size, F as filter size(kernel), P as padding size and S as stride.\n",
    "            # Therefore, the output of conv2d layer is a ((8-2+2)/1)+1 = 9*9*32.\n",
    "            # We then add a layer of max pooling with a kernel of 2*2=4 pixel. This will-\n",
    "            # ouput the max value in each 2*2 window of the conv2d's ouput. The ouput of the MaxPool2d layer-\n",
    "            # is again calculated by the same fomula as ((9-2+0)/1)+1 = 8*8*32.\n",
    "            # We then add a linear layer to match the final output of convolutional layers with our 32\n",
    "            # After that, we add a final linear layer to match the previous output with our k=10 classes.\n",
    "            # Since we want to feed the output of MaxPool2d to a linear neural network-\n",
    "            # We need to flatten it to recieve a 1-dimentional tensor.\n",
    "            # Finally, the last layer should be a LogSoftmax() activation layer so-\n",
    "            # that we can obtain the class log-probabilities as output.\n",
    "            nn.Conv2d(in_channels=1, out_channels=32, kernel_size=(2, 2), padding=1), nn.ReLU(),   #input=8*8*32, output=9*9*32\n",
    "            nn.MaxPool2d(kernel_size=(2, 2), stride=1,padding=0), #input=32*9*9, output=32*8*8\n",
    "            Flatten(), #input=32*8*8, output=1*2048\n",
    "            nn.Linear(in_features=32*8*8, out_features=32), nn.ReLU(), #input=1*2048, output=1*32\n",
    "            nn.Linear(in_features=32, out_features=K), nn.LogSoftmax(dim=1) #input=1*32, output=1*10\n",
    "        )\n",
    "\n",
    "    # Init ClassifierNN\n",
    "    old_model = ClassifierNeuralNetAssignment4(classnet)\n",
    "\n",
    "    # Init OPTIMIZER (here we use ADAMAX)\n",
    "    optimizer = torch.optim.Adamax([p for p in old_model.parameters() if p.requires_grad == True], lr=lr, weight_decay=wd) \n",
    "  \n",
    "    # Training procedure\n",
    "    old_nll_val, old_error_val = training(max_patience=20,\n",
    "                                num_epochs=1000,\n",
    "                                model=old_model,\n",
    "                                optimizer=optimizer,\n",
    "                                training_loader=training_loader,\n",
    "                                val_loader=val_loader)\n",
    "    # The final evaluation (on the test set)\n",
    "    old_test_loss, old_test_error = evaluation(test_loader=test_loader, model_best=old_model, epoch=1)\n",
    "    # write the results to a file\n",
    "    print(f'-> FINAL PERFORMANCE: nll={old_test_loss}, ce={old_test_error}')\n",
    "    f = open(result_dir + name + '_test_loss.txt', \"w\")\n",
    "    f.write('NLL: ' + str(old_test_loss) + '\\nCE: ' + str(old_test_error))\n",
    "    f.close()\n",
    "    # create curves\n",
    "    plot_curve(result_dir + name, old_nll_val, file_name='_nll_val_curve.pdf', ylabel='nll', test_eval=old_test_loss)\n",
    "    plot_curve(result_dir + name, old_error_val, file_name='_ca_val_curve.pdf', ylabel='ce', color='r-', test_eval=old_test_error)"
   ]
  },
  {
   "cell_type": "markdown",
   "metadata": {},
   "source": [
    "### 4.2 Assignment 5 plots"
   ]
  },
  {
   "cell_type": "code",
   "execution_count": 23,
   "metadata": {},
   "outputs": [],
   "source": [
    "# We retrieve the configuration list of our best individual (we want to train the model from scratch for better comparison)\n",
    "best_confg_list = best_ind[-1].confg_list \n",
    "# We create a best model with these configurations\n",
    "best_model = ClassifierNeuralNet(best_confg_list)\n",
    "# Init OPTIMIZER (here we use ADAMAX)\n",
    "optimizer = torch.optim.Adamax([p for p in best_model.parameters() if p.requires_grad == True], lr=lr, weight_decay=wd) \n",
    "\n",
    "# Training procedure: we train the model for 1000 epochs with an early stopping of max_patience=20-\n",
    "#(if training doesn't improve for longer than 20 epochs, it is stopped)\n",
    "tr_nll_value, tr_error_value = training(max_patience=20,\n",
    "                            num_epochs=1000,\n",
    "                            model=best_model,\n",
    "                            optimizer=optimizer,\n",
    "                            training_loader=training_loader,\n",
    "                            val_loader=val_loader)\n",
    "\n",
    "# We evaluate this best model on the test set\n",
    "ts_test_loss, ts_test_error = evaluation(test_loader=test_loader, model_best=best_model, epoch=1)"
   ]
  },
  {
   "cell_type": "code",
   "execution_count": 25,
   "metadata": {},
   "outputs": [
    {
     "name": "stdout",
     "output_type": "stream",
     "text": [
      "-> FINAL PERFORMANCE: nll=0.0035668942885644216, ce=0.07606263982102908\n"
     ]
    },
    {
     "data": {
      "image/png": "[encoded data removed]",
      "text/plain": [
       "<Figure size 432x288 with 1 Axes>"
      ]
     },
     "metadata": {
      "needs_background": "light"
     },
     "output_type": "display_data"
    },
    {
     "data": {
      "image/png": "[encoded data removed]",
      "text/plain": [
       "<Figure size 432x288 with 1 Axes>"
      ]
     },
     "metadata": {
      "needs_background": "light"
     },
     "output_type": "display_data"
    }
   ],
   "source": [
    "# print the final results of the model\n",
    "print(f'-> FINAL PERFORMANCE: nll={ts_test_loss}, ce={ts_test_error}')\n",
    "# write the results to a file\n",
    "f = open(\"results_assignment5/\" + 'best_model_test_loss.txt', \"w\")\n",
    "f.write('NLL: ' + str(ts_test_loss) + '\\nCE: ' + str(ts_test_error))\n",
    "f.close()\n",
    "# save the model\n",
    "torch.save(best_model, \"best_model\" + '.model')\n",
    "# create plots for the loss and the classification of the model for both testing and trainig sessions\n",
    "plot_curve(\"results_assignment5/\", tr_nll_value, file_name='best_model_nll_val_curve.pdf', ylabel='nll', test_eval=ts_test_loss)\n",
    "plot_curve(\"results_assignment5/\", tr_error_value, file_name='best_model_ca_val_curve.pdf', ylabel='ce', color='r-', test_eval=ts_test_error)"
   ]
  },
  {
   "cell_type": "markdown",
   "metadata": {},
   "source": [
    "### 4.3 Convergence Plot"
   ]
  },
  {
   "cell_type": "code",
   "execution_count": 26,
   "metadata": {},
   "outputs": [
    {
     "data": {
      "image/png": "[encoded data removed]",
      "text/plain": [
       "<Figure size 432x288 with 1 Axes>"
      ]
     },
     "metadata": {
      "needs_background": "light"
     },
     "output_type": "display_data"
    }
   ],
   "source": [
    "# The convergence plot: the best value of the fitness function for each generation\n",
    "plt.plot(range(len(f_best)), f_best)\n",
    "plt.title('The convergence')\n",
    "plt.grid()"
   ]
  },
  {
   "cell_type": "markdown",
   "metadata": {},
   "source": [
    "### 4.4 Confusion Matrix"
   ]
  },
  {
   "cell_type": "code",
   "execution_count": 48,
   "metadata": {},
   "outputs": [],
   "source": [
    "import matplotlib.pyplot as plt\n",
    "\n",
    "def plot_confusion_matrix(cm, classes,\n",
    "                          normalize=False,\n",
    "                          title='Confusion matrix',\n",
    "                          cmap=plt.cm.Blues):\n",
    "\n",
    "    plt.imshow(cm, interpolation='nearest', cmap=cmap)\n",
    "    plt.title(title)\n",
    "    plt.colorbar()\n",
    "    tick_marks = np.arange(len(classes))\n",
    "    plt.xticks(tick_marks, classes, rotation=45)\n",
    "    plt.yticks(tick_marks, classes)\n",
    "\n",
    "    if normalize:\n",
    "        cm = cm.astype('float') / cm.sum(axis=1)[:, np.newaxis]\n",
    "        print(\"Normalized confusion matrix\")\n",
    "    else:\n",
    "        print('Confusion matrix, without normalization')\n",
    "\n",
    "    thresh = cm.max() / 2.\n",
    "    for i, j in itertools.product(range(cm.shape[0]), range(cm.shape[1])):\n",
    "        plt.text(j, i, cm[i, j],\n",
    "                 horizontalalignment=\"center\",\n",
    "                 color=\"white\" if cm[i, j] > thresh else \"black\")\n",
    "\n",
    "    plt.tight_layout()\n",
    "    plt.ylabel('True label')\n",
    "    plt.xlabel('Predicted label')"
   ]
  },
  {
   "cell_type": "code",
   "execution_count": 96,
   "metadata": {},
   "outputs": [
    {
     "data": {
      "image/png": "[encoded data removed]",
      "text/plain": [
       "<Figure size 360x288 with 2 Axes>"
      ]
     },
     "metadata": {
      "needs_background": "light"
     },
     "output_type": "display_data"
    }
   ],
   "source": [
    "import pandas as pd\n",
    "import seaborn as sns\n",
    "import sklearn.metrics as skm\n",
    "from sklearn.metrics import multilabel_confusion_matrix\n",
    "\n",
    "# To create a confusion matrix, we run the model on the training set and reserve-\n",
    "# the predictions and the real values seperately\n",
    "batched_y_preds = []\n",
    "batched_y_tests = []\n",
    "for indx_batch, (batch, targets) in enumerate(test_loader):\n",
    "    y_pred = best_model.classify(batch)\n",
    "    y_test = targets.long()\n",
    "    batched_y_preds.append(y_pred)\n",
    "    batched_y_tests.append(y_test)\n",
    "\n",
    "y_preds = np.asarray(torch.cat([x for x in batched_y_preds], dim=0))\n",
    "y_tests = np.asarray(torch.cat([x for x in batched_y_tests], dim=0))\n",
    "labels = [0, 1, 2, 3, 4, 5, 6, 7, 8, 9]\n",
    "cm = skm.confusion_matrix(y_tests, y_preds, sample_weight=None, labels=labels)\n",
    "# Creating a dataframe for a array-formatted Confusion matrix,so it will be easy for plotting.\n",
    "cm_df = pd.DataFrame(cm,\n",
    "                     index = ['0','1','2','3','4','5','6','7','8','9'], \n",
    "                     columns = ['0','1','2','3','4','5','6','7','8','9'])\n",
    "#Plotting the confusion matrix\n",
    "plt.figure(figsize=(5,4))\n",
    "sns.heatmap(cm_df, annot=True)\n",
    "plt.title('Confusion Matrix')\n",
    "plt.ylabel('Actal Values')\n",
    "plt.xlabel('Predicted Values')\n",
    "plt.show()"
   ]
  }
 ],
 "metadata": {
  "colab": {
   "collapsed_sections": [],
   "name": "assignment_4.ipynb",
   "provenance": [],
   "toc_visible": true
  },
  "kernelspec": {
   "display_name": "Python 3 (ipykernel)",
   "language": "python",
   "name": "python3"
  },
  "language_info": {
   "codemirror_mode": {
    "name": "ipython",
    "version": 3
   },
   "file_extension": ".py",
   "mimetype": "text/x-python",
   "name": "python",
   "nbconvert_exporter": "python",
   "pygments_lexer": "ipython3",
   "version": "3.9.7"
  }
 },
 "nbformat": 4,
 "nbformat_minor": 4
}
